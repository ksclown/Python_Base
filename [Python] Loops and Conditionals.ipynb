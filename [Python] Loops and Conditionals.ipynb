{
 "cells": [
  {
   "cell_type": "markdown",
   "metadata": {},
   "source": [
    "<span style=\"color:grey\">Version : Python 3.7.6 in Window</span>"
   ]
  },
  {
   "cell_type": "markdown",
   "metadata": {},
   "source": [
    "<span style=\"color:grey\">By \"ksclown(Kang Seong Chan)\"</span>"
   ]
  },
  {
   "cell_type": "markdown",
   "metadata": {},
   "source": [
    "# 반복문과 조건문"
   ]
  },
  {
   "cell_type": "markdown",
   "metadata": {},
   "source": [
    "\n",
    "---\n",
    "---\n",
    "\n",
    "## 반복문\n",
    "\n",
    "- 일정 반복 조건을 통해 반복 조건 아래 코드를 반복하는 문장\n",
    "- for문과 while문이 있음"
   ]
  },
  {
   "cell_type": "markdown",
   "metadata": {},
   "source": [
    "\n",
    "---\n",
    "\n",
    "### for 문\n",
    "\n",
    "- \"for (조건) : 반복할 내용\"의 형태\n",
    "- for 반복문은 조건 부분이 명확할 때 활용하기 좋음 (예시 코드를 통해 이해하면 편함)\n",
    "- 다양한 출력 방법이 존재함 (예 : 매개변수를 통한 반복)"
   ]
  },
  {
   "cell_type": "code",
   "execution_count": 2,
   "metadata": {},
   "outputs": [
    {
     "name": "stdout",
     "output_type": "stream",
     "text": [
      "1번째 숫자: 1\n",
      "2번째 숫자: 2\n",
      "3번째 숫자: 3\n",
      "4번째 숫자: 4\n",
      "5번째 숫자: 5\n"
     ]
    }
   ],
   "source": [
    "# 기본 실습 #\n",
    "li = [1, 2, 3, 4, 5]\n",
    "\n",
    "for i in li :\n",
    "    print(\"{}번째 숫자:\".format(i), i)"
   ]
  },
  {
   "cell_type": "code",
   "execution_count": 6,
   "metadata": {},
   "outputs": [
    {
     "name": "stdout",
     "output_type": "stream",
     "text": [
      "k(54)를 출력했습니다.\n",
      "k(82)를 출력했습니다.\n",
      "k(97)를 출력했습니다.\n",
      "k(40)를 출력했습니다.\n",
      "k(12)를 출력했습니다.\n",
      "-----1번째 반복-----\n",
      "k(54)를 출력했습니다.\n",
      "k(82)를 출력했습니다.\n",
      "k(97)를 출력했습니다.\n",
      "k(40)를 출력했습니다.\n",
      "k(12)를 출력했습니다.\n",
      "-----2번째 반복-----\n",
      "k(54)를 출력했습니다.\n",
      "k(82)를 출력했습니다.\n",
      "k(97)를 출력했습니다.\n",
      "k(40)를 출력했습니다.\n",
      "k(12)를 출력했습니다.\n",
      "-----3번째 반복-----\n",
      "k(54)를 출력했습니다.\n",
      "k(82)를 출력했습니다.\n",
      "k(97)를 출력했습니다.\n",
      "k(40)를 출력했습니다.\n",
      "k(12)를 출력했습니다.\n",
      "-----4번째 반복-----\n",
      "k(54)를 출력했습니다.\n",
      "k(82)를 출력했습니다.\n",
      "k(97)를 출력했습니다.\n",
      "k(40)를 출력했습니다.\n",
      "k(12)를 출력했습니다.\n",
      "-----5번째 반복-----\n"
     ]
    }
   ],
   "source": [
    "# 2번 연속으로 활용 #\n",
    "li = [1, 2, 3, 4, 5]\n",
    "st = [54, 82, 97, 40, 12]\n",
    "\n",
    "for i in li :\n",
    "    for k in st :\n",
    "        print(\"k({})를 출력했습니다.\".format(k))\n",
    "    print(\"-----{}번째 반복-----\".format(i))"
   ]
  },
  {
   "cell_type": "code",
   "execution_count": 8,
   "metadata": {},
   "outputs": [
    {
     "name": "stdout",
     "output_type": "stream",
     "text": [
      "0번까지 반복합니다.\n",
      "1번까지 반복합니다.\n",
      "2번까지 반복합니다.\n",
      "3번까지 반복합니다.\n",
      "4번까지 반복합니다.\n",
      "5번까지 반복합니다.\n",
      "6번까지 반복합니다.\n",
      "7번까지 반복합니다.\n",
      "8번까지 반복합니다.\n",
      "9번까지 반복합니다.\n"
     ]
    }
   ],
   "source": [
    "# 다양한 출력 #\n",
    "for i in range(0, 10) :\n",
    "    print(\"{}번까지 반복합니다.\".format(i))"
   ]
  },
  {
   "cell_type": "markdown",
   "metadata": {},
   "source": [
    "\n"
   ]
  },
  {
   "cell_type": "markdown",
   "metadata": {},
   "source": []
  },
  {
   "cell_type": "markdown",
   "metadata": {},
   "source": [
    "### while 문"
   ]
  },
  {
   "cell_type": "markdown",
   "metadata": {},
   "source": []
  },
  {
   "cell_type": "markdown",
   "metadata": {},
   "source": [
    "\n",
    "---\n",
    "---\n",
    "\n",
    "## 조건문\n",
    "\n",
    " "
   ]
  },
  {
   "cell_type": "code",
   "execution_count": null,
   "metadata": {},
   "outputs": [],
   "source": []
  },
  {
   "cell_type": "markdown",
   "metadata": {},
   "source": [
    "### if 문"
   ]
  },
  {
   "cell_type": "markdown",
   "metadata": {},
   "source": []
  }
 ],
 "metadata": {
  "interpreter": {
   "hash": "c5c2c3c852cea3612ae75d7177c7db88d742ce4c76218675a91b833287f5ecf2"
  },
  "kernelspec": {
   "display_name": "Python 3.10.1 64-bit",
   "language": "python",
   "name": "python3"
  },
  "language_info": {
   "codemirror_mode": {
    "name": "ipython",
    "version": 3
   },
   "file_extension": ".py",
   "mimetype": "text/x-python",
   "name": "python",
   "nbconvert_exporter": "python",
   "pygments_lexer": "ipython3",
   "version": "3.10.1"
  },
  "orig_nbformat": 4
 },
 "nbformat": 4,
 "nbformat_minor": 2
}
