{
 "cells": [
  {
   "cell_type": "markdown",
   "metadata": {},
   "source": [
    "<span style=\"color:grey\">Version : Python 3.7.6 in Window</span>"
   ]
  },
  {
   "cell_type": "markdown",
   "metadata": {},
   "source": [
    "<span style=\"color:grey\">By \"ksclown(Kang Seong Chan)\"</span>"
   ]
  },
  {
   "cell_type": "markdown",
   "metadata": {},
   "source": [
    "시작하기 앞서서 기본적인 내용을 내 기준으로 정리하고 넘어갈 예정이여서 빠지는 내용들이 있을 수 있습니다."
   ]
  },
  {
   "cell_type": "markdown",
   "metadata": {},
   "source": [
    "\n",
    "---\n",
    "---\n",
    "\n",
    "# 파이썬을 시작하기전 \n",
    "\n",
    "변수와 출력에 대하여\n",
    "- 변수 : 게임으로 따지면 인벤토리\n",
    "- 출력 : print()의 형식으로 괄호 안의 내용 출력 가능\n",
    "- 변수에 대해서는 다양한 각도의 이해 필요\n",
    "- 그리고 변수도 타입이 존재하여 타입에 따른 제한도 존재"
   ]
  },
  {
   "cell_type": "code",
   "execution_count": 2,
   "metadata": {},
   "outputs": [
    {
     "name": "stdout",
     "output_type": "stream",
     "text": [
      "100\n",
      "문자\n"
     ]
    }
   ],
   "source": [
    "# 변수\n",
    "a = 100\n",
    "b = \"문자\"\n",
    "\n",
    "# 출력\n",
    "print(a)\n",
    "print(b)"
   ]
  },
  {
   "cell_type": "code",
   "execution_count": 4,
   "metadata": {},
   "outputs": [
    {
     "name": "stdout",
     "output_type": "stream",
     "text": [
      "100\n",
      "문자\n",
      "문자 문자\n",
      "100 100\n"
     ]
    }
   ],
   "source": [
    "# 변수에 대한 이해 01 #\n",
    "a = 100\n",
    "print(a)\n",
    "\n",
    "a = \"문자\"\n",
    "print(a)\n",
    "\n",
    "# 변수에 대한 이해 02 #\n",
    "print(a, a)\n",
    "\n",
    "# 변수에 대한 이해 03 #\n",
    "a = 100\n",
    "print(a, a)\n"
   ]
  },
  {
   "cell_type": "markdown",
   "metadata": {},
   "source": [
    "\n",
    "---\n",
    "---\n",
    "\n",
    "# 계산\n",
    "\n",
    "- 기본적인 계산들 가능 (+, -, *, /)\n",
    "- 디테일한 계산 기능들도 있음 (**, //, % ...등)\n",
    "- 숫자뿐만 아니라 문자도 계산 기호 사용 가능"
   ]
  },
  {
   "cell_type": "markdown",
   "metadata": {},
   "source": [
    "\n",
    "---\n",
    "\n",
    "## 숫자 계산"
   ]
  },
  {
   "cell_type": "markdown",
   "metadata": {},
   "source": [
    "### 기본 계산"
   ]
  },
  {
   "cell_type": "code",
   "execution_count": 5,
   "metadata": {},
   "outputs": [
    {
     "name": "stdout",
     "output_type": "stream",
     "text": [
      "100 + 50 = 150\n",
      "100 - 50 = 50\n",
      "100 * 50 = 5000\n",
      "100 / 50 = 2.0\n"
     ]
    }
   ],
   "source": [
    "## 변수 설정 ##\n",
    "a=100\n",
    "b=50\n",
    "\n",
    "## 출력하기 ##\n",
    "result = a+b\n",
    "print(a,'+',b,'=',result)\n",
    "\n",
    "# 빼기 기능 구현\n",
    "result = a-b\n",
    "print(a,'-',b,'=',result)\n",
    "\n",
    "# 곱하기 기능 구현\n",
    "result = a*b\n",
    "print(a,'*',b,'=',result)\n",
    "\n",
    "# 나누기 기능 구현\n",
    "result = a/b\n",
    "print(a,'/',b,'=',result)"
   ]
  },
  {
   "cell_type": "markdown",
   "metadata": {},
   "source": [
    "### 디테일한 계산"
   ]
  },
  {
   "cell_type": "code",
   "execution_count": 16,
   "metadata": {},
   "outputs": [
    {
     "name": "stdout",
     "output_type": "stream",
     "text": [
      "  몫    7 // 3 = 2\n",
      "나머지  7 % 3 = 1\n",
      " 제곱   7 ** 3 = 343\n"
     ]
    }
   ],
   "source": [
    "## 변수 설정 ##\n",
    "a=7\n",
    "b=3\n",
    "\n",
    "## 출력하기 ##\n",
    "print(\"  몫   \", a, \"//\", b, \"=\", a//b)\n",
    "print(\"나머지 \", a, \"%\", b, \"=\", a%b)\n",
    "print(\" 제곱  \", a, \"**\", b, \"=\", a**b)"
   ]
  },
  {
   "cell_type": "code",
   "execution_count": null,
   "metadata": {},
   "outputs": [],
   "source": [
    "# 여기부터 다시 시작할 예정"
   ]
  },
  {
   "cell_type": "markdown",
   "metadata": {},
   "source": [
    "\n",
    "---\n",
    "\n",
    "## 문자 계산"
   ]
  },
  {
   "cell_type": "markdown",
   "metadata": {},
   "source": [
    "\n",
    "---\n",
    "---\n",
    "\n",
    "# 자료형(Type)"
   ]
  },
  {
   "cell_type": "markdown",
   "metadata": {},
   "source": [
    "\n",
    "---\n",
    "\n",
    "## 리스트(list)"
   ]
  },
  {
   "cell_type": "markdown",
   "metadata": {},
   "source": [
    "\n",
    "---\n",
    "\n",
    "## 딕셔너리(dict)"
   ]
  },
  {
   "cell_type": "markdown",
   "metadata": {},
   "source": [
    "\n",
    "---\n",
    "\n",
    "## 튜플(tuple)"
   ]
  },
  {
   "cell_type": "markdown",
   "metadata": {},
   "source": [
    "\n",
    "---\n",
    "\n",
    "## 조합(set)"
   ]
  }
 ],
 "metadata": {
  "interpreter": {
   "hash": "c5c2c3c852cea3612ae75d7177c7db88d742ce4c76218675a91b833287f5ecf2"
  },
  "kernelspec": {
   "display_name": "Python 3.10.1 64-bit",
   "language": "python",
   "name": "python3"
  },
  "language_info": {
   "codemirror_mode": {
    "name": "ipython",
    "version": 3
   },
   "file_extension": ".py",
   "mimetype": "text/x-python",
   "name": "python",
   "nbconvert_exporter": "python",
   "pygments_lexer": "ipython3",
   "version": "3.10.1"
  },
  "orig_nbformat": 4
 },
 "nbformat": 4,
 "nbformat_minor": 2
}
