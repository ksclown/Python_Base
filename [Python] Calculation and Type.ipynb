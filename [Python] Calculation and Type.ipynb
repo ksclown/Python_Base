{
 "cells": [
  {
   "cell_type": "markdown",
   "metadata": {},
   "source": [
    "<span style=\"color:grey\">Version : Python 3.7.6 in Window</span>"
   ]
  },
  {
   "cell_type": "markdown",
   "metadata": {},
   "source": [
    "<span style=\"color:grey\">By \"ksclown(Kang Seong Chan)\"</span>"
   ]
  },
  {
   "cell_type": "markdown",
   "metadata": {},
   "source": [
    "시작하기 앞서서 기본적인 내용을 내 기준으로 정리하고 넘어갈 예정이여서 빠지는 내용들이 있을 수 있습니다."
   ]
  },
  {
   "cell_type": "markdown",
   "metadata": {},
   "source": [
    "\n",
    "---\n",
    "---\n",
    "\n",
    "# 파이썬을 시작하기전 \n",
    "\n",
    "변수와 출력에 대하여\n",
    "- 변수 : 게임으로 따지면 인벤토리\n",
    "- 출력 : print()의 형식으로 괄호 안의 내용 출력 가능\n",
    "- 변수에 대해서는 다양한 각도의 이해 필요\n",
    "- 그리고 변수도 타입이 존재하여 타입에 따른 제한도 존재"
   ]
  },
  {
   "cell_type": "code",
   "execution_count": 2,
   "metadata": {},
   "outputs": [
    {
     "name": "stdout",
     "output_type": "stream",
     "text": [
      "100\n",
      "문자\n"
     ]
    }
   ],
   "source": [
    "# 변수\n",
    "a = 100\n",
    "b = \"문자\"\n",
    "\n",
    "# 출력\n",
    "print(a)\n",
    "print(b)"
   ]
  },
  {
   "cell_type": "code",
   "execution_count": 4,
   "metadata": {},
   "outputs": [
    {
     "name": "stdout",
     "output_type": "stream",
     "text": [
      "100\n",
      "문자\n",
      "문자 문자\n",
      "100 100\n"
     ]
    }
   ],
   "source": [
    "# 변수에 대한 이해 01 #\n",
    "a = 100\n",
    "print(a)\n",
    "\n",
    "a = \"문자\"\n",
    "print(a)\n",
    "\n",
    "# 변수에 대한 이해 02 #\n",
    "print(a, a)\n",
    "\n",
    "# 변수에 대한 이해 03 #\n",
    "a = 100\n",
    "print(a, a)\n"
   ]
  },
  {
   "cell_type": "markdown",
   "metadata": {},
   "source": [
    "\n",
    "---\n",
    "---\n",
    "\n",
    "# 계산\n",
    "\n",
    "- 기본적인 계산들 가능 (+, -, *, /)\n",
    "- 디테일한 계산 기능들도 있음 (**, //, % ...등)\n",
    "- 숫자뿐만 아니라 문자도 계산 기호 사용 가능"
   ]
  },
  {
   "cell_type": "markdown",
   "metadata": {},
   "source": [
    "\n",
    "---\n",
    "\n",
    "## 숫자 계산\n",
    "\n",
    "기본적이면서 디테일한 계산 모두 가능"
   ]
  },
  {
   "cell_type": "markdown",
   "metadata": {},
   "source": [
    "### 기본 계산"
   ]
  },
  {
   "cell_type": "code",
   "execution_count": 5,
   "metadata": {},
   "outputs": [
    {
     "name": "stdout",
     "output_type": "stream",
     "text": [
      "100 + 50 = 150\n",
      "100 - 50 = 50\n",
      "100 * 50 = 5000\n",
      "100 / 50 = 2.0\n"
     ]
    }
   ],
   "source": [
    "## 변수 설정 ##\n",
    "a=100\n",
    "b=50\n",
    "\n",
    "## 출력하기 ##\n",
    "result = a+b\n",
    "print(a,'+',b,'=',result)\n",
    "\n",
    "# 빼기 기능 구현\n",
    "result = a-b\n",
    "print(a,'-',b,'=',result)\n",
    "\n",
    "# 곱하기 기능 구현\n",
    "result = a*b\n",
    "print(a,'*',b,'=',result)\n",
    "\n",
    "# 나누기 기능 구현\n",
    "result = a/b\n",
    "print(a,'/',b,'=',result)"
   ]
  },
  {
   "cell_type": "markdown",
   "metadata": {},
   "source": [
    "### 디테일한 계산"
   ]
  },
  {
   "cell_type": "code",
   "execution_count": 16,
   "metadata": {},
   "outputs": [
    {
     "name": "stdout",
     "output_type": "stream",
     "text": [
      "  몫    7 // 3 = 2\n",
      "나머지  7 % 3 = 1\n",
      " 제곱   7 ** 3 = 343\n"
     ]
    }
   ],
   "source": [
    "## 변수 설정 ##\n",
    "a=7\n",
    "b=3\n",
    "\n",
    "## 출력하기 ##\n",
    "print(\"  몫   \", a, \"//\", b, \"=\", a//b)\n",
    "print(\"나머지 \", a, \"%\", b, \"=\", a%b)\n",
    "print(\" 제곱  \", a, \"**\", b, \"=\", a**b)"
   ]
  },
  {
   "cell_type": "markdown",
   "metadata": {},
   "source": [
    "\n",
    "---\n",
    "\n",
    "## 문자 계산\n",
    "\n",
    "문자열은 +, * 를 사용해서 출력을 할 수 있지만, 다른 계산식은 사용하면 오류가 뜸"
   ]
  },
  {
   "cell_type": "code",
   "execution_count": 7,
   "metadata": {},
   "outputs": [
    {
     "name": "stdout",
     "output_type": "stream",
     "text": [
      "안녕친구야\n",
      "안녕친구야\n",
      "안녕안녕안녕안녕안녕친구야\n",
      "안녕친구야\n"
     ]
    }
   ],
   "source": [
    "## '+', '-' ##\n",
    "# 변수선언 #\n",
    "a = \"안녕\"\n",
    "b = \"친구야\"\n",
    "\n",
    "# 출력 #\n",
    "print(a + b)\n",
    "print(\"안녕\" + \"친구야\")\n",
    "print(\"안녕\"*5 + \"친구야\")\n",
    "print(a + \"친구야\")"
   ]
  },
  {
   "cell_type": "code",
   "execution_count": 8,
   "metadata": {},
   "outputs": [
    {
     "ename": "TypeError",
     "evalue": "can only concatenate str (not \"int\") to str",
     "output_type": "error",
     "traceback": [
      "\u001b[1;31m---------------------------------------------------------------------------\u001b[0m",
      "\u001b[1;31mTypeError\u001b[0m                                 Traceback (most recent call last)",
      "\u001b[1;32mc:\\Users\\clown\\OneDrive\\바탕 화면\\공부 폴더\\[Base] Python_Base\\Python_Base\\[Python] Calculation and Type.ipynb Cell 15'\u001b[0m in \u001b[0;36m<cell line: 3>\u001b[1;34m()\u001b[0m\n\u001b[0;32m      <a href='vscode-notebook-cell:/c%3A/Users/clown/OneDrive/%EB%B0%94%ED%83%95%20%ED%99%94%EB%A9%B4/%EA%B3%B5%EB%B6%80%20%ED%8F%B4%EB%8D%94/%5BBase%5D%20Python_Base/Python_Base/%5BPython%5D%20Calculation%20and%20Type.ipynb#ch0000021?line=0'>1</a>\u001b[0m \u001b[39m# 숫자와 더하기 #\u001b[39;00m\n\u001b[0;32m      <a href='vscode-notebook-cell:/c%3A/Users/clown/OneDrive/%EB%B0%94%ED%83%95%20%ED%99%94%EB%A9%B4/%EA%B3%B5%EB%B6%80%20%ED%8F%B4%EB%8D%94/%5BBase%5D%20Python_Base/Python_Base/%5BPython%5D%20Calculation%20and%20Type.ipynb#ch0000021?line=1'>2</a>\u001b[0m \u001b[39m# 숫자는 타입에러 발생\u001b[39;00m\n\u001b[1;32m----> <a href='vscode-notebook-cell:/c%3A/Users/clown/OneDrive/%EB%B0%94%ED%83%95%20%ED%99%94%EB%A9%B4/%EA%B3%B5%EB%B6%80%20%ED%8F%B4%EB%8D%94/%5BBase%5D%20Python_Base/Python_Base/%5BPython%5D%20Calculation%20and%20Type.ipynb#ch0000021?line=2'>3</a>\u001b[0m \u001b[39mprint\u001b[39m(a \u001b[39m+\u001b[39;49m \u001b[39m5\u001b[39;49m)\n",
      "\u001b[1;31mTypeError\u001b[0m: can only concatenate str (not \"int\") to str"
     ]
    }
   ],
   "source": [
    "# 숫자와 더하기 #\n",
    "# 숫자는 타입에러 발생\n",
    "print(a + 5)"
   ]
  },
  {
   "cell_type": "markdown",
   "metadata": {},
   "source": [
    "\n",
    "---\n",
    "---\n",
    "\n",
    "# 자료형(Type)\n",
    "\n",
    "- 파이썬에는 여러가지 자료형이 존재함\n",
    "- 자료형에 따른 특징과 제한점으로 인해 코딩 및 프로그램에 제한이 생김\n",
    "- 각각의 자료형의 특징을 파악하는 것이 중요"
   ]
  },
  {
   "cell_type": "markdown",
   "metadata": {},
   "source": [
    "\n",
    "---\n",
    "\n",
    "## 리스트(list)\n",
    "\n",
    "- 가장 많이 쓰이는 자료형태 중에 하나\n",
    "- []를 사용\n",
    "- 인덱스를 사용 (주의사항 : 인덱스는 0부터 숫자를 카운터함)\n",
    "- len()을 사용해서 인덱스 사용가능\n",
    "- 문자열과 숫자 모두 넣을 수 있음"
   ]
  },
  {
   "cell_type": "code",
   "execution_count": 3,
   "metadata": {},
   "outputs": [
    {
     "name": "stdout",
     "output_type": "stream",
     "text": [
      "[1, 2, '3', 2, '오', 4]\n",
      "<class 'list'>\n",
      "1\n",
      "3\n",
      "<class 'int'>\n",
      "<class 'str'>\n"
     ]
    }
   ],
   "source": [
    "# 리스트 선언 #\n",
    "a = [1, 2, \"3\", 2, \"오\", 2*2]\n",
    "\n",
    "# 출력 #\n",
    "print(a)\n",
    "print(type(a))\n",
    "\n",
    "# 인덱스 출력 # \n",
    "# 인덱스 출력은 슬라이싱 출력이 가능함\n",
    "print(a[0])\n",
    "print(a[2])\n",
    "print(type(a[0]))\n",
    "print(type(a[2]))"
   ]
  },
  {
   "cell_type": "markdown",
   "metadata": {},
   "source": [
    "\n",
    "---\n",
    "\n",
    "## 딕셔너리(dict)\n",
    "\n",
    "- {}를 사용\n",
    "- {키 : 값}의 형태\n",
    "- 키를 통해서 값을 불러낼 수도 있음\n",
    "- 키는 고유값임(immutable(변하지 않는) 값)"
   ]
  },
  {
   "cell_type": "code",
   "execution_count": 5,
   "metadata": {},
   "outputs": [
    {
     "name": "stdout",
     "output_type": "stream",
     "text": [
      "{'a': 20, 'b': 'hi', 3: 'good', 4: 45}\n"
     ]
    }
   ],
   "source": [
    "# {키 : 값} 사용 #\n",
    "dic = {\"a\" : 20, \"b\" : \"hi\", 3 : \"good\", 4 : 45}\n",
    "\n",
    "# 출력 #\n",
    "print(dic)"
   ]
  },
  {
   "cell_type": "code",
   "execution_count": 11,
   "metadata": {},
   "outputs": [
    {
     "name": "stdout",
     "output_type": "stream",
     "text": [
      "dict_keys(['a', 'b', 3, 4])\n",
      "dict_values([20, 'hi', 'good', 45])\n",
      "dict_items([('a', 20), ('b', 'hi'), (3, 'good'), (4, 45)])\n"
     ]
    }
   ],
   "source": [
    "# 변수 선언 #\n",
    "dic = {\"a\" : 20, \"b\" : \"hi\", 3 : \"good\", 4 : 45}\n",
    "\n",
    "# 키 확인 #\n",
    "print(dic.keys())\n",
    "\n",
    "# 값 확인 #\n",
    "print(dic.values())\n",
    "\n",
    "# 둘 다 확인 #\n",
    "print(dic.items())"
   ]
  },
  {
   "cell_type": "code",
   "execution_count": 14,
   "metadata": {},
   "outputs": [
    {
     "name": "stdout",
     "output_type": "stream",
     "text": [
      "20\n",
      "hi\n",
      "good\n",
      "45\n"
     ]
    }
   ],
   "source": [
    "# 변수 선언 #\n",
    "dic = {\"a\" : 20, \"b\" : \"hi\", 3 : \"good\", 4 : 45}\n",
    "\n",
    "# 키로 값을 확인 #\n",
    "print(dic.get(\"a\"))\n",
    "print(dic.get(\"b\"))\n",
    "print(dic.get(3))\n",
    "print(dic.get(4))"
   ]
  },
  {
   "cell_type": "markdown",
   "metadata": {},
   "source": [
    "\n",
    "---\n",
    "\n",
    "## 튜플(tuple)\n",
    "\n",
    "- ( )를 사용\n",
    "- 튜플은 값을 바꿀 수 없음\n",
    "- 슬라이싱이나 길이 등 다루는 방법은 비슷"
   ]
  },
  {
   "cell_type": "code",
   "execution_count": 17,
   "metadata": {},
   "outputs": [
    {
     "name": "stdout",
     "output_type": "stream",
     "text": [
      "(1, 2, 'hi', 'good', ['nice', 'try', 3])\n",
      "2\n",
      "['nice', 'try', 3]\n",
      "try\n"
     ]
    }
   ],
   "source": [
    "# tuple 선언 #\n",
    "tu = (1, 2, \"hi\", \"good\", [\"nice\", \"try\", 3])\n",
    "\n",
    "# 출력 #\n",
    "print(tu)\n",
    "print(tu[1])\n",
    "print(tu[4])\n",
    "print(tu[4][1])"
   ]
  },
  {
   "cell_type": "markdown",
   "metadata": {},
   "source": [
    "\n",
    "---\n",
    "\n",
    "## 집합(set)\n",
    "\n",
    "- 중복이 안됨\n",
    "- 순서가 없음\n",
    "- 두 집합을 다음 기호로 활용 가능 (합(|), 차(-), 교(&))"
   ]
  },
  {
   "cell_type": "code",
   "execution_count": 1,
   "metadata": {},
   "outputs": [
    {
     "name": "stdout",
     "output_type": "stream",
     "text": [
      "리스트 :  [1, 2, 3, 1, 2, 3, '하나', '둘', '셋']\n",
      "집합 :  {1, 2, 3, '하나', '둘', '셋'}\n"
     ]
    }
   ],
   "source": [
    "# 리스트로 먼전 변수 선언 #\n",
    "li = [1, 2, 3, 1, 2, 3, \"하나\", \"둘\", \"셋\"]\n",
    "print(\"리스트 : \", li)\n",
    "\n",
    "# 집합으로 바꿔서 출력 #\n",
    "se = set(li)\n",
    "print(\"집합 : \", se)"
   ]
  },
  {
   "cell_type": "code",
   "execution_count": 2,
   "metadata": {},
   "outputs": [
    {
     "name": "stdout",
     "output_type": "stream",
     "text": [
      "합집합 :  {1, 2, 3, 4, 5, 6, '하나', '둘', '넷', '다섯', '셋'}\n",
      "차집합 :  {'둘', 4, 5, 6, '셋'}\n",
      "교집합 :  {1, 2, 3, '하나'}\n"
     ]
    }
   ],
   "source": [
    "# 변수 선언 #\n",
    "se1 = set([1, 2, 3, 4, 5, 6, \"하나\", \"둘\", \"셋\"])\n",
    "se2 = set([1, 2, 3, \"하나\", \"넷\", \"다섯\"])\n",
    "\n",
    "# 합집합 #\n",
    "se3 = se1 | se2\n",
    "print(\"합집합 : \", se3)\n",
    "\n",
    "# 차집합 #\n",
    "se4 = se1 - se2\n",
    "print(\"차집합 : \", se4)\n",
    "\n",
    "# 교집합 #\n",
    "se5 = se1 & se2\n",
    "print(\"교집합 : \", se5)"
   ]
  }
 ],
 "metadata": {
  "interpreter": {
   "hash": "c5c2c3c852cea3612ae75d7177c7db88d742ce4c76218675a91b833287f5ecf2"
  },
  "kernelspec": {
   "display_name": "Python 3.10.1 64-bit",
   "language": "python",
   "name": "python3"
  },
  "language_info": {
   "codemirror_mode": {
    "name": "ipython",
    "version": 3
   },
   "file_extension": ".py",
   "mimetype": "text/x-python",
   "name": "python",
   "nbconvert_exporter": "python",
   "pygments_lexer": "ipython3",
   "version": "3.10.1"
  },
  "orig_nbformat": 4
 },
 "nbformat": 4,
 "nbformat_minor": 2
}
