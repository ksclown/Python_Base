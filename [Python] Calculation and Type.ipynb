{
 "cells": [
  {
   "cell_type": "markdown",
   "metadata": {},
   "source": [
    "<span style=\"color:grey\">Version : Python 3.7.6 in Window</span>"
   ]
  },
  {
   "cell_type": "markdown",
   "metadata": {},
   "source": [
    "<span style=\"color:grey\">By \"ksclown(Kang Seong Chan)\"</span>"
   ]
  },
  {
   "cell_type": "markdown",
   "metadata": {},
   "source": [
    "시작하기 앞서서 기본적인 내용을 내 기준으로 정리하고 넘어갈 예정이여서 빠지는 내용들이 있을 수 있습니다."
   ]
  },
  {
   "cell_type": "markdown",
   "metadata": {},
   "source": [
    "\n",
    "---\n",
    "---\n",
    "\n",
    "# 파이썬을 시작하기전 \n",
    "\n",
    "변수와 출력에 대하여\n",
    "- 변수 : 게임으로 따지면 인벤토리\n",
    "- 출력 : print()의 형식으로 괄호 안의 내용 출력 가능\n",
    "- 변수에 대해서는 다양한 각도의 이해 필요\n",
    "- 그리고 변수도 타입이 존재하여 타입에 따른 제한도 존재"
   ]
  },
  {
   "cell_type": "code",
   "execution_count": 2,
   "metadata": {},
   "outputs": [
    {
     "name": "stdout",
     "output_type": "stream",
     "text": [
      "100\n",
      "문자\n"
     ]
    }
   ],
   "source": [
    "# 변수\n",
    "a = 100\n",
    "b = \"문자\"\n",
    "\n",
    "# 출력\n",
    "print(a)\n",
    "print(b)"
   ]
  },
  {
   "cell_type": "code",
   "execution_count": 4,
   "metadata": {},
   "outputs": [
    {
     "name": "stdout",
     "output_type": "stream",
     "text": [
      "100\n",
      "문자\n",
      "문자 문자\n",
      "100 100\n"
     ]
    }
   ],
   "source": [
    "# 변수에 대한 이해 01 #\n",
    "a = 100\n",
    "print(a)\n",
    "\n",
    "a = \"문자\"\n",
    "print(a)\n",
    "\n",
    "# 변수에 대한 이해 02 #\n",
    "print(a, a)\n",
    "\n",
    "# 변수에 대한 이해 03 #\n",
    "a = 100\n",
    "print(a, a)\n"
   ]
  },
  {
   "cell_type": "markdown",
   "metadata": {},
   "source": [
    "\n",
    "---\n",
    "---\n",
    "\n",
    "# 계산\n",
    "\n",
    "- 기본적인 계산들 가능 (+, -, *, /)\n",
    "- 디테일한 계산 기능들도 있음 (**, //, % ...등)\n",
    "- 숫자뿐만 아니라 문자도 계산 기호 사용 가능"
   ]
  },
  {
   "cell_type": "markdown",
   "metadata": {},
   "source": [
    "\n",
    "---\n",
    "\n",
    "## 숫자 계산\n",
    "\n",
    "기본적이면서 디테일한 계산 모두 가능"
   ]
  },
  {
   "cell_type": "markdown",
   "metadata": {},
   "source": [
    "### 기본 계산"
   ]
  },
  {
   "cell_type": "code",
   "execution_count": 5,
   "metadata": {},
   "outputs": [
    {
     "name": "stdout",
     "output_type": "stream",
     "text": [
      "100 + 50 = 150\n",
      "100 - 50 = 50\n",
      "100 * 50 = 5000\n",
      "100 / 50 = 2.0\n"
     ]
    }
   ],
   "source": [
    "## 변수 설정 ##\n",
    "a=100\n",
    "b=50\n",
    "\n",
    "## 출력하기 ##\n",
    "result = a+b\n",
    "print(a,'+',b,'=',result)\n",
    "\n",
    "# 빼기 기능 구현\n",
    "result = a-b\n",
    "print(a,'-',b,'=',result)\n",
    "\n",
    "# 곱하기 기능 구현\n",
    "result = a*b\n",
    "print(a,'*',b,'=',result)\n",
    "\n",
    "# 나누기 기능 구현\n",
    "result = a/b\n",
    "print(a,'/',b,'=',result)"
   ]
  },
  {
   "cell_type": "markdown",
   "metadata": {},
   "source": [
    "### 디테일한 계산"
   ]
  },
  {
   "cell_type": "code",
   "execution_count": 16,
   "metadata": {},
   "outputs": [
    {
     "name": "stdout",
     "output_type": "stream",
     "text": [
      "  몫    7 // 3 = 2\n",
      "나머지  7 % 3 = 1\n",
      " 제곱   7 ** 3 = 343\n"
     ]
    }
   ],
   "source": [
    "## 변수 설정 ##\n",
    "a=7\n",
    "b=3\n",
    "\n",
    "## 출력하기 ##\n",
    "print(\"  몫   \", a, \"//\", b, \"=\", a//b)\n",
    "print(\"나머지 \", a, \"%\", b, \"=\", a%b)\n",
    "print(\" 제곱  \", a, \"**\", b, \"=\", a**b)"
   ]
  },
  {
   "cell_type": "markdown",
   "metadata": {},
   "source": [
    "\n",
    "---\n",
    "\n",
    "## 문자 계산\n",
    "\n",
    "문자열은 +, * 를 사용해서 출력을 할 수 있지만, 다른 계산식은 사용하면 오류가 뜸"
   ]
  },
  {
   "cell_type": "code",
   "execution_count": 7,
   "metadata": {},
   "outputs": [
    {
     "name": "stdout",
     "output_type": "stream",
     "text": [
      "안녕친구야\n",
      "안녕친구야\n",
      "안녕안녕안녕안녕안녕친구야\n",
      "안녕친구야\n"
     ]
    }
   ],
   "source": [
    "## '+', '-' ##\n",
    "# 변수선언 #\n",
    "a = \"안녕\"\n",
    "b = \"친구야\"\n",
    "\n",
    "# 출력 #\n",
    "print(a + b)\n",
    "print(\"안녕\" + \"친구야\")\n",
    "print(\"안녕\"*5 + \"친구야\")\n",
    "print(a + \"친구야\")"
   ]
  },
  {
   "cell_type": "code",
   "execution_count": 8,
   "metadata": {},
   "outputs": [
    {
     "ename": "TypeError",
     "evalue": "can only concatenate str (not \"int\") to str",
     "output_type": "error",
     "traceback": [
      "\u001b[1;31m---------------------------------------------------------------------------\u001b[0m",
      "\u001b[1;31mTypeError\u001b[0m                                 Traceback (most recent call last)",
      "\u001b[1;32mc:\\Users\\clown\\OneDrive\\바탕 화면\\공부 폴더\\[Base] Python_Base\\Python_Base\\[Python] Calculation and Type.ipynb Cell 15'\u001b[0m in \u001b[0;36m<cell line: 3>\u001b[1;34m()\u001b[0m\n\u001b[0;32m      <a href='vscode-notebook-cell:/c%3A/Users/clown/OneDrive/%EB%B0%94%ED%83%95%20%ED%99%94%EB%A9%B4/%EA%B3%B5%EB%B6%80%20%ED%8F%B4%EB%8D%94/%5BBase%5D%20Python_Base/Python_Base/%5BPython%5D%20Calculation%20and%20Type.ipynb#ch0000021?line=0'>1</a>\u001b[0m \u001b[39m# 숫자와 더하기 #\u001b[39;00m\n\u001b[0;32m      <a href='vscode-notebook-cell:/c%3A/Users/clown/OneDrive/%EB%B0%94%ED%83%95%20%ED%99%94%EB%A9%B4/%EA%B3%B5%EB%B6%80%20%ED%8F%B4%EB%8D%94/%5BBase%5D%20Python_Base/Python_Base/%5BPython%5D%20Calculation%20and%20Type.ipynb#ch0000021?line=1'>2</a>\u001b[0m \u001b[39m# 숫자는 타입에러 발생\u001b[39;00m\n\u001b[1;32m----> <a href='vscode-notebook-cell:/c%3A/Users/clown/OneDrive/%EB%B0%94%ED%83%95%20%ED%99%94%EB%A9%B4/%EA%B3%B5%EB%B6%80%20%ED%8F%B4%EB%8D%94/%5BBase%5D%20Python_Base/Python_Base/%5BPython%5D%20Calculation%20and%20Type.ipynb#ch0000021?line=2'>3</a>\u001b[0m \u001b[39mprint\u001b[39m(a \u001b[39m+\u001b[39;49m \u001b[39m5\u001b[39;49m)\n",
      "\u001b[1;31mTypeError\u001b[0m: can only concatenate str (not \"int\") to str"
     ]
    }
   ],
   "source": [
    "# 숫자와 더하기 #\n",
    "# 숫자는 타입에러 발생\n",
    "print(a + 5)"
   ]
  },
  {
   "cell_type": "markdown",
   "metadata": {},
   "source": [
    "\n",
    "---\n",
    "---\n",
    "\n",
    "# 자료형(Type)\n",
    "\n",
    "- 파이썬에는 여러가지 자료형이 존재함\n",
    "- 자료형에 따른 특징과 제한점으로 인해 코딩 및 프로그램에 제한이 생김\n",
    "- 각각의 자료형의 특징을 파악하는 것이 중요"
   ]
  },
  {
   "cell_type": "markdown",
   "metadata": {},
   "source": [
    "\n",
    "---\n",
    "\n",
    "## 리스트(list)\n",
    "\n",
    "- 가장 많이 쓰이는 자료형태 중에 하나\n",
    "- []를 사용\n",
    "- 인덱스를 사용 (주의사항 : 인덱스는 0부터 숫자를 카운터함)\n",
    "- len()을 사용해서 인데스 사용가능\n",
    "- 문자열과 숫자 모두 넣을 수 있음"
   ]
  },
  {
   "cell_type": "code",
   "execution_count": null,
   "metadata": {},
   "outputs": [],
   "source": [
    "# 여기서부터 수정 필요"
   ]
  },
  {
   "cell_type": "markdown",
   "metadata": {},
   "source": [
    "\n",
    "---\n",
    "\n",
    "## 딕셔너리(dict)"
   ]
  },
  {
   "cell_type": "markdown",
   "metadata": {},
   "source": [
    "\n",
    "---\n",
    "\n",
    "## 튜플(tuple)"
   ]
  },
  {
   "cell_type": "markdown",
   "metadata": {},
   "source": [
    "\n",
    "---\n",
    "\n",
    "## 조합(set)"
   ]
  }
 ],
 "metadata": {
  "interpreter": {
   "hash": "1da354d1bacd69d58576c077b3fcbcbf99d8e045a7da87c4c7e001aa6dd1fd3f"
  },
  "kernelspec": {
   "display_name": "Python 3.10.4 64-bit",
   "language": "python",
   "name": "python3"
  },
  "language_info": {
   "codemirror_mode": {
    "name": "ipython",
    "version": 3
   },
   "file_extension": ".py",
   "mimetype": "text/x-python",
   "name": "python",
   "nbconvert_exporter": "python",
   "pygments_lexer": "ipython3",
   "version": "3.10.4"
  },
  "orig_nbformat": 4
 },
 "nbformat": 4,
 "nbformat_minor": 2
}
