{
 "cells": [
  {
   "cell_type": "markdown",
   "metadata": {},
   "source": [
    "<span style=\"color:grey\">Version : Python 3.10.1 in Window</span>"
   ]
  },
  {
   "cell_type": "markdown",
   "metadata": {},
   "source": [
    "<span style=\"color:grey\">By \"ksclown(Kang Seong Chan)\"</span>"
   ]
  },
  {
   "cell_type": "markdown",
   "metadata": {},
   "source": [
    "\n",
    "---\n",
    "---\n",
    "\n",
    "# 함수(Function)\n",
    "\n",
    "- \"def ~() : ~ \"와 같은 형식\n",
    "- 반복적이고 자주 쓰이는 코드를 하나로 묶어서 사용하는 방법\n",
    "- 적절한 디렉토리에 함수나 클래스를 .py로 저장한다면 import로 불러내서 따로 사용할 수 있음"
   ]
  },
  {
   "cell_type": "markdown",
   "metadata": {},
   "source": [
    "## 함수의 형식"
   ]
  },
  {
   "cell_type": "code",
   "execution_count": 4,
   "metadata": {},
   "outputs": [
    {
     "name": "stdout",
     "output_type": "stream",
     "text": [
      "hello와 bro를 출력합니다.\n",
      "10와 20를 출력합니다.\n",
      "hello와 hello를 출력합니다.\n",
      "10와 20를 출력합니다.\n"
     ]
    }
   ],
   "source": [
    "# 기본적인 형식\n",
    "def Call(a,b) :\n",
    "    print(\"{}와 {}를 출력합니다.\".format(a,b))\n",
    "\n",
    "Call(\"hello\", \"bro\")\n",
    "Call(10, 20)\n",
    "\n",
    "a = [\"hello\", 10]\n",
    "b = [\"hello\", 20]\n",
    "\n",
    "Call(a[0], b[0])\n",
    "Call(a[1], b[1])"
   ]
  },
  {
   "cell_type": "markdown",
   "metadata": {},
   "source": [
    "## 저장 후 import로 불러오기"
   ]
  },
  {
   "cell_type": "code",
   "execution_count": 11,
   "metadata": {},
   "outputs": [
    {
     "name": "stdout",
     "output_type": "stream",
     "text": [
      "hello와 bro를 출력합니다.\n",
      "a와 b의 합은 hellobro입니다.\n",
      "10와 20를 출력합니다.\n",
      "a와 b의 합은 30입니다.\n"
     ]
    }
   ],
   "source": [
    "# 우선 아래 함수를 저장\n",
    "## 저장할 파일\n",
    "#def Call(a,b) :\n",
    "#    print(\"{}와 {}를 출력합니다.\".format(a,b))\n",
    "\n",
    "# 파일 불러오기\n",
    "import abCall\n",
    "\n",
    "# 실행 \n",
    "a = [\"hello\", 10]\n",
    "b = [\"hello\", 20]\n",
    "\n",
    "abCall.Call(\"hello\", \"bro\")\n",
    "abCall.Call(10, 20)"
   ]
  },
  {
   "cell_type": "markdown",
   "metadata": {},
   "source": [
    "\n",
    "---\n",
    "---\n",
    "\n",
    "# 클래스(Class)\n",
    "\n",
    "- 함수와 마찬가지로 중복적인 코드를 반복하고 할당하기 위한 방법\n",
    "- "
   ]
  },
  {
   "cell_type": "markdown",
   "metadata": {},
   "source": []
  },
  {
   "cell_type": "code",
   "execution_count": null,
   "metadata": {},
   "outputs": [],
   "source": []
  },
  {
   "cell_type": "code",
   "execution_count": null,
   "metadata": {},
   "outputs": [],
   "source": []
  },
  {
   "cell_type": "markdown",
   "metadata": {},
   "source": []
  }
 ],
 "metadata": {
  "interpreter": {
   "hash": "c5c2c3c852cea3612ae75d7177c7db88d742ce4c76218675a91b833287f5ecf2"
  },
  "kernelspec": {
   "display_name": "Python 3.10.1 64-bit",
   "language": "python",
   "name": "python3"
  },
  "language_info": {
   "codemirror_mode": {
    "name": "ipython",
    "version": 3
   },
   "file_extension": ".py",
   "mimetype": "text/x-python",
   "name": "python",
   "nbconvert_exporter": "python",
   "pygments_lexer": "ipython3",
   "version": "3.10.1"
  },
  "orig_nbformat": 4
 },
 "nbformat": 4,
 "nbformat_minor": 2
}
