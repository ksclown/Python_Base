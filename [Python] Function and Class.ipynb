{
 "cells": [
  {
   "cell_type": "markdown",
   "metadata": {},
   "source": [
    "<span style=\"color:grey\">Version : Python 3.10.1 in Window</span>"
   ]
  },
  {
   "cell_type": "markdown",
   "metadata": {},
   "source": [
    "<span style=\"color:grey\">By \"ksclown(Kang Seong Chan)\"</span>"
   ]
  },
  {
   "cell_type": "markdown",
   "metadata": {},
   "source": [
    "\n",
    "---\n",
    "---\n",
    "\n",
    "# 함수(Function)\n",
    "\n",
    "- \"def ~() : ~ \"와 같은 형식\n",
    "- 반복적이고 자주 쓰이는 코드를 하나로 묶어서 사용하는 방법\n",
    "- 적절한 디렉토리에 함수나 클래스를 .py로 저장한다면 import로 불러내서 따로 사용할 수 있음"
   ]
  },
  {
   "cell_type": "markdown",
   "metadata": {},
   "source": [
    "## 함수의 형식"
   ]
  },
  {
   "cell_type": "code",
   "execution_count": 4,
   "metadata": {},
   "outputs": [
    {
     "name": "stdout",
     "output_type": "stream",
     "text": [
      "hello와 bro를 출력합니다.\n",
      "10와 20를 출력합니다.\n",
      "hello와 hello를 출력합니다.\n",
      "10와 20를 출력합니다.\n"
     ]
    }
   ],
   "source": [
    "# 기본적인 형식\n",
    "def Call(a,b) :\n",
    "    print(\"{}와 {}를 출력합니다.\".format(a,b))\n",
    "\n",
    "Call(\"hello\", \"bro\")\n",
    "Call(10, 20)\n",
    "\n",
    "a = [\"hello\", 10]\n",
    "b = [\"hello\", 20]\n",
    "\n",
    "Call(a[0], b[0])\n",
    "Call(a[1], b[1])"
   ]
  },
  {
   "cell_type": "markdown",
   "metadata": {},
   "source": [
    "## 저장 후 import로 불러오기"
   ]
  },
  {
   "cell_type": "code",
   "execution_count": 11,
   "metadata": {},
   "outputs": [
    {
     "name": "stdout",
     "output_type": "stream",
     "text": [
      "hello와 bro를 출력합니다.\n",
      "a와 b의 합은 hellobro입니다.\n",
      "10와 20를 출력합니다.\n",
      "a와 b의 합은 30입니다.\n"
     ]
    }
   ],
   "source": [
    "# 우선 아래 함수를 저장\n",
    "## 저장할 파일\n",
    "#def Call(a,b) :\n",
    "#    print(\"{}와 {}를 출력합니다.\".format(a,b))\n",
    "\n",
    "# 파일 불러오기\n",
    "import abCall\n",
    "\n",
    "# 실행 \n",
    "a = [\"hello\", 10]\n",
    "b = [\"hello\", 20]\n",
    "\n",
    "abCall.Call(\"hello\", \"bro\")\n",
    "abCall.Call(10, 20)"
   ]
  },
  {
   "cell_type": "markdown",
   "metadata": {},
   "source": [
    "\n",
    "---\n",
    "---\n",
    "\n",
    "# 클래스(Class)\n",
    "\n",
    "- \"Class ~:~\"와 같은 형식\n",
    "- 함수와 마찬가지로 중복적인 코드를 반복하고 할당하기 위한 방법\n",
    "- 함수처럼 저장 후 import 후 불러오기 가능\n",
    "- 상속과 오버라이딩과 같이 어려가지 개념이 존재함"
   ]
  },
  {
   "cell_type": "markdown",
   "metadata": {},
   "source": [
    "## 기본 형식\n",
    "\n",
    "- \"self\"란 클래스안에 있는 변수를 가르키는 말\n",
    "- \"def __init__(self):~\" 이 문장 자체가 클래스를 할당할 때 이런 형식으로 초기화 시켜 할당시키겠다는 의미"
   ]
  },
  {
   "cell_type": "code",
   "execution_count": 17,
   "metadata": {},
   "outputs": [
    {
     "name": "stdout",
     "output_type": "stream",
     "text": [
      "당도는 10이다\n"
     ]
    }
   ],
   "source": [
    "# 기본 형식 01\n",
    "## 클래스 선언\n",
    "class  Fruits :\n",
    "    sorts = \"\"\n",
    "    sugar = 0\n",
    "\n",
    "    def  upSugar(self, value) :\n",
    "        self.sugar += value\n",
    "    \n",
    "    def  downSugar(self, value) :\n",
    "        self.sugar -= value\n",
    "        \n",
    "    def printSugar(self) :\n",
    "        if self.sorts == \"\" :\n",
    "            print(\"당도는 {}이다\".format(self.sugar))\n",
    "        else :\n",
    "            print(\"과일의 종류는 {}이고, 당도는 {}이다\".format(self.sorts, self.sugar))\n",
    "\n",
    "## 쿨래스 실행\n",
    "fr = Fruits()\n",
    "\n",
    "## 클래스안의 함수 실행\n",
    "fr.upSugar(10)\n",
    "fr.printSugar()\n"
   ]
  },
  {
   "cell_type": "code",
   "execution_count": 21,
   "metadata": {},
   "outputs": [
    {
     "name": "stdout",
     "output_type": "stream",
     "text": [
      "현재 과일의 종류는 사과이고, 당도는 20입니다.\n",
      "현재 과일의 종류는 메론이고, 당도는 25입니다.\n"
     ]
    }
   ],
   "source": [
    "# 기본 형식 02\n",
    "## 클래스 선언 (초기화 값 추가)\n",
    "class  Fruits :\n",
    "    sorts = \"\"\n",
    "    sugar = 0\n",
    "    # 초기화하는 함수\n",
    "    def __init__ (self):\n",
    "        self.sorts = \"사과\"\n",
    "        self.sugar = 20\n",
    "\n",
    "    def upSugar(self, value) :\n",
    "        self.sugar += value\n",
    "    \n",
    "    def downSugar(self, value) :\n",
    "        self.sugar -= value\n",
    "\n",
    "\n",
    "fr1 = Fruits()\n",
    "print(\"현재 과일의 종류는 {}이고, 당도는 {}입니다.\".format(fr1.sorts, fr1.sugar))\n",
    "\n",
    "fr2 = Fruits()\n",
    "fr2.sorts = \"메론\"\n",
    "fr2.upSugar(5)\n",
    "print(\"현재 과일의 종류는 {}이고, 당도는 {}입니다.\".format(fr2.sorts, fr2.sugar))"
   ]
  },
  {
   "cell_type": "markdown",
   "metadata": {},
   "source": [
    "## 상속과 오버라이딩\n",
    "\n",
    "- 작성한 Class를 상속받아 작성 가능함\n",
    "- 상속받은 Class에서 다시 상속해주는 Class에 영향을 끼칠 수 있음 => 오버라이딩"
   ]
  },
  {
   "cell_type": "code",
   "execution_count": 22,
   "metadata": {},
   "outputs": [
    {
     "name": "stdout",
     "output_type": "stream",
     "text": [
      "현재 과일의 종류는 사과이고, 당도는 25입니다.\n",
      "당도 up! 서브 클래스에서 오버라이딩 됨. 과일의 종류는 callsorts를 사용하세요~\n",
      "과일의 종류 :  바나나\n"
     ]
    }
   ],
   "source": [
    "# 상속\n",
    "# 기본 형식 01\n",
    "## 클래스 선언(슈버 클래스)\n",
    "class  Fruits :\n",
    "    sorts = \"사과\"\n",
    "    sugar = 20\n",
    "\n",
    "    def upSugar(self, value) :\n",
    "        self.sugar += value\n",
    "        print(\"현재 과일의 종류는 {}이고, 당도는 {}입니다.\".format(self.sorts, self.sugar))\n",
    "\n",
    "    def downSugar(self, value) :\n",
    "        self.sugar -= value\n",
    "        print(\"현재 과일의 종류는 {}이고, 당도는 {}입니다.\".format(self.sorts, self.sugar))\n",
    "\n",
    "## 서브 클래스 선언 1(pass)\n",
    "class Apple(Fruits) :\n",
    "    pass\n",
    "\n",
    "## 서브 클래스 선언2(오버라이딩)\n",
    "class Banna(Fruits) :\n",
    "    def __init__ (self):\n",
    "        self.sorts = \"바나나\"\n",
    "        self.sugar = 15\n",
    "\n",
    "    def upSugar(self, value) :\n",
    "        self.sugar += value\n",
    "        print(\"당도 up! 서브 클래스에서 오버라이딩 됨. 과일의 종류는 callsorts를 사용하세요~\")\n",
    "\n",
    "    def downSugar(self, value) :\n",
    "        self.sugar -= value\n",
    "        print(\"당도 down! 서브 클래스에서 오버라이딩 됨. 과일의 종류는 callsorts를 사용하세요~\")\n",
    "    \n",
    "    def callsorts(self) :\n",
    "        print(\"과일의 종류 : \", self.sorts)\n",
    "\n",
    "# 실행\n",
    "## pass 실행\n",
    "ap = Apple()\n",
    "ap.upSugar(5)\n",
    "\n",
    "## 오버라이딩 실행\n",
    "ba = Banna()\n",
    "ba.upSugar(12)\n",
    "ba.callsorts()"
   ]
  },
  {
   "cell_type": "markdown",
   "metadata": {},
   "source": [
    "## 클래스를 활용한 스레드와 프로세스\n",
    "\n",
    "- 기존 파이썬은 싱글 스레드를 통해서 순차적으로 동작함\n",
    "- 멀티 스레드와 멀티 프로세스 모두 병렬처리를 위한 방법"
   ]
  },
  {
   "cell_type": "markdown",
   "metadata": {},
   "source": [
    "### 멀티 스레드\n",
    "\n",
    "- cpu를 멀티하게 사용하는 것은 아님\n",
    "- 입출력을 하는 동안 다른 스레드에서 cpu를 사용하는 것임\n",
    "- 입출력이 많은 프로그램에서 유용(그래서 아래 코드를 스레드를 나눠서 출력하는 시간은 크게 차이가 없음)"
   ]
  },
  {
   "cell_type": "code",
   "execution_count": 32,
   "metadata": {},
   "outputs": [
    {
     "name": "stdout",
     "output_type": "stream",
     "text": [
      "Result: 4999999950000000\n"
     ]
    }
   ],
   "source": [
    "from threading import Thread\n",
    "\n",
    "def work(start, end, result):\n",
    "    total = 0\n",
    "    for i in range(start, end):\n",
    "        total += i\n",
    "    result.append(total)\n",
    "    return\n",
    "\n",
    "if __name__ == \"__main__\":\n",
    "    START, END = 0, 100000000\n",
    "    result = list()\n",
    "    th1 = Thread(target=work, args=(START, END//2, result))\n",
    "    th2 = Thread(target=work, args=(END//2, END, result))\n",
    "\n",
    "    th1.start()\n",
    "    th2.start()\n",
    "    th1.join()\n",
    "    th2.join()\n",
    "    \n",
    "print(\"Result:\", sum(result))"
   ]
  },
  {
   "cell_type": "markdown",
   "metadata": {},
   "source": [
    "### 멀티 프로세스\n",
    "\n",
    "- 각각의 메모리를 사용해 메모리 사용량이 증가 (그만큼 처리에서 속도가 빨라)\n",
    "- 병렬로 cpu 작업하여 분산처리하는 프로그래밍 구현\n",
    "- 데이터 교환에 필요한 다른 객체를 사용하기도 함\n",
    "- Pool은 프로세스를 준비하고 자동으로 할당하여 병렬처리를 하게 만드는 방식\n",
    "- Process는 각 프로세스 별로 할당량을 직접 적어 처리하는 방식\n",
    "- 주피터 노트북과 multiprocessing 사이에 문제가 있어서 따로 .py 파일로 저장해서 실행해야함\n",
    "- 아래 코드를 작성하여 .py로 저장 후 terminal에서 돌려야 함"
   ]
  },
  {
   "cell_type": "code",
   "execution_count": 4,
   "metadata": {},
   "outputs": [],
   "source": [
    "import multiprocessing as mp\n",
    "\n",
    "class AllAdd :\n",
    "    start = None\n",
    "    end = None\n",
    "    result = None\n",
    "\n",
    "    def __init__(self, START, END) :\n",
    "        self.start = START\n",
    "        self.end = END\n",
    "\n",
    "    def work(self, start, end) :\n",
    "        self.result = 0\n",
    "        for i in range(self.start, self.end) :\n",
    "            self.result += i\n",
    "        print(\"결과는 : \", self.result)\n",
    "\n",
    "if __name__ == \"__main__\" :\n",
    "    START = 0\n",
    "    END = 100000000\n",
    "\n",
    "    AA1 = AllAdd(START, int(END/2))\n",
    "    AA2 = AllAdd(int(END/2), END)\n",
    "\n",
    "    mp1 = mp.Process(target=AA1.work, args=(START, END/2))\n",
    "    mp2 = mp.Process(target=AA2.work, args=(END/2, END))\n",
    "\n",
    "    mp1.start()\n",
    "    mp2.start()\n",
    "    \n",
    "    mp1.join()\n",
    "    mp2.join()"
   ]
  },
  {
   "cell_type": "code",
   "execution_count": 2,
   "metadata": {},
   "outputs": [
    {
     "name": "stdout",
     "output_type": "stream",
     "text": [
      "1\n",
      "2\n",
      "3\n"
     ]
    }
   ],
   "source": [
    "import multiprocessing as mp\n",
    "\n",
    "q = mp.Queue() \n",
    "q.put(1) \n",
    "q.put(2) \n",
    "q.put(3)\n",
    "\n",
    "data1 = q.get() \n",
    "data2 = q.get() \n",
    "data3 = q.get()\n",
    "\n",
    "print(data1) \n",
    "print(data2) \n",
    "print(data3)"
   ]
  }
 ],
 "metadata": {
  "interpreter": {
   "hash": "c5c2c3c852cea3612ae75d7177c7db88d742ce4c76218675a91b833287f5ecf2"
  },
  "kernelspec": {
   "display_name": "Python 3.10.1 64-bit",
   "language": "python",
   "name": "python3"
  },
  "language_info": {
   "codemirror_mode": {
    "name": "ipython",
    "version": 3
   },
   "file_extension": ".py",
   "mimetype": "text/x-python",
   "name": "python",
   "nbconvert_exporter": "python",
   "pygments_lexer": "ipython3",
   "version": "3.10.1"
  },
  "orig_nbformat": 4
 },
 "nbformat": 4,
 "nbformat_minor": 2
}
