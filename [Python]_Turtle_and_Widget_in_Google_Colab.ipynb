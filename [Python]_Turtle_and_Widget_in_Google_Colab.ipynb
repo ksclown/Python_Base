{
  "nbformat": 4,
  "nbformat_minor": 0,
  "metadata": {
    "colab": {
      "name": "[Python] Turtle and Widget in Google Colab.ipynb",
      "private_outputs": true,
      "provenance": [],
      "collapsed_sections": [],
      "mount_file_id": "1mr-EjLrTGaPKC8YoxXbT-HuuQKOlGZfJ",
      "authorship_tag": "ABX9TyP8roA8axTAmlaYr0z2SF/5",
      "include_colab_link": true
    },
    "kernelspec": {
      "name": "python3",
      "display_name": "Python 3"
    },
    "language_info": {
      "name": "python"
    }
  },
  "cells": [
    {
      "cell_type": "markdown",
      "metadata": {
        "id": "view-in-github",
        "colab_type": "text"
      },
      "source": [
        "<a href=\"https://colab.research.google.com/github/ksclown/Python_Base/blob/main/%5BPython%5D_Turtle_and_Widget_in_Google_Colab.ipynb\" target=\"_parent\"><img src=\"https://colab.research.google.com/assets/colab-badge.svg\" alt=\"Open In Colab\"/></a>"
      ]
    },
    {
      "cell_type": "markdown",
      "source": [
        "<span style=\"color:grey\">Version : Python in Colab(22.06.22)</span>"
      ],
      "metadata": {
        "id": "qaxFrqEL_z0Y"
      }
    },
    {
      "cell_type": "markdown",
      "source": [
        "<span style=\"color:grey\">By \"ksclown(Kang Seong Chan)\"</span>"
      ],
      "metadata": {
        "id": "SKaz1JFb_zvR"
      }
    },
    {
      "cell_type": "markdown",
      "source": [
        "# Turtle  in Colab\n",
        "\n",
        "- 코랩은 외부 디스플레이가 없습니다.\n",
        "- 외부 디스플레이 : 터틀이나 GUI를 사용할 때 나오는 외부 창\n",
        "- Turtle은 Colab에서 대체로 사용할 수 있는 라이브러리가 존재\n",
        "- 라이브러리 문서 : https://larryriddle.agnesscott.org/ColabTurtlePlus/documentation2.html"
      ],
      "metadata": {
        "id": "ilYoLNNZAEDB"
      }
    },
    {
      "cell_type": "markdown",
      "source": [
        "## 라이브러리 다운로드 및 불러오기"
      ],
      "metadata": {
        "id": "BekD4muDG0UK"
      }
    },
    {
      "cell_type": "code",
      "execution_count": null,
      "metadata": {
        "id": "gSH5pnBe_XGg"
      },
      "outputs": [],
      "source": [
        "# 설치\n",
        "! pip install ColabTurtle\n",
        "\n",
        "# 불러오기\n",
        "# from ColabTurtle.Turtle import *"
      ]
    },
    {
      "cell_type": "markdown",
      "source": [
        "## 활용\n",
        "\n",
        "### 화면 설정\n",
        "\n",
        "- 창크기 : (x, y)의 형태, y축은 아래로 내려갈수록 값이 커짐  (디폴트 = (800, 500))\n",
        "- 배경색과 팬의 색도 검정색과 하얀색이 디폴트 값\n",
        "- 터틀의 스피드 : 1 ~ 13 의 속도를 가질 수 있음(디폴트 = 4)\n",
        "- 모양 : 'turtle' 아니면 'circle'\n",
        "- 컬러는 아래에 유효한 컬러를 뽑아서 출력함 ((r, g, b) 숫자롤 설정 가능함)"
      ],
      "metadata": {
        "id": "tdR28QSbJ3e0"
      }
    },
    {
      "cell_type": "code",
      "source": [
        "import ColabTurtle.Turtle as t\n",
        "\n",
        "# 창크기 #\n",
        "x, y = 500, 400\n",
        "\n",
        "# 초기화 #\n",
        "t.initializeTurtle(initial_window_size = (x,y), initial_speed = 5)\n",
        "\n",
        "# 컬러\n",
        "t.bgcolor(color = \"white\")\n",
        "t.color(color = \"black\")\n",
        "\n",
        "# 터틀은 처음에 x/2, y/2의 지점에 있음\n",
        "t.penup()\n",
        "t.goto(x/3, y/2)\n",
        "t.pendown()\n",
        "# y축 아래로 갈수록 값이 커짐\n",
        "t.setpos(x/4, y/3)\n",
        "\n",
        "# 기본 움직임\n",
        "t.right(90)\n",
        "t.forward(100)\n",
        "t.right(90)\n",
        "t.forward(100)\n",
        "t.right(90)\n",
        "t.backward(100)\n",
        "t.left(90)\n",
        "t.backward(100)\n",
        "t.left(90)\n",
        "t.forward(100)\n",
        "\n",
        "# 팬설정\n",
        "t.width(10)\n",
        "t.right(90)\n",
        "t.forward(100)\n",
        "\n",
        "# 문자쓰기\n",
        "t.write(\"hello\")"
      ],
      "metadata": {
        "id": "RZFAa7tnGrSW"
      },
      "execution_count": null,
      "outputs": []
    },
    {
      "cell_type": "code",
      "source": [
        "# 반복을 통한 원그리기\n",
        "t.initializeTurtle()\n",
        "\n",
        "# 시작전 설정\n",
        "t.penup()\n",
        "t.setpos(400, 450)\n",
        "t.pendown()\n",
        "t.right(90)\n",
        "t.speed(12)\n",
        "\n",
        "\n",
        "for i in range(1,4) : \n",
        "    for k in range(360) :\n",
        "        t.forward(i)\n",
        "        t.left(1)"
      ],
      "metadata": {
        "id": "5_-xSRhKZaS2"
      },
      "execution_count": null,
      "outputs": []
    },
    {
      "cell_type": "code",
      "source": [
        "# 유효한 컬러\n",
        "VALID_COLORS = ('black', 'navy', 'darkblue', 'mediumblue', 'blue', \n",
        "                'darkgreen', 'green', 'teal', 'darkcyan', 'deepskyblue',\n",
        "                'darkturquoise', 'mediumspringgreen', 'lime', 'springgreen', 'aqua', \n",
        "                'cyan', 'midnightblue', 'dodgerblue', 'lightseagreen', 'forestgreen',\n",
        "                'seagreen', 'darkslategray', 'darkslategrey', 'limegreen', 'mediumseagreen',\n",
        "                'turquoise', 'royalblue', 'steelblue', 'darkslateblue', 'mediumturquoise', \n",
        "                'indigo', 'darkolivegreen', 'cadetblue', 'cornflowerblue', 'rebeccapurple', \n",
        "                'mediumaquamarine', 'dimgray', 'dimgrey', 'slateblue', 'olivedrab', \n",
        "                'slategray', 'slategrey', 'lightslategray', 'lightslategrey', 'mediumslateblue', \n",
        "                'lawngreen', 'chartreuse', 'aquamarine', 'maroon', 'purple', \n",
        "                'olive', 'gray', 'grey', 'skyblue', 'lightskyblue', \n",
        "                'blueviolet', 'darkred', 'darkmagenta', 'saddlebrown', 'darkseagreen', \n",
        "                'lightgreen', 'mediumpurple', 'darkviolet', 'palegreen', 'darkorchid', \n",
        "                'yellowgreen', 'sienna', 'brown', 'darkgray', 'darkgrey', \n",
        "                'lightblue', 'greenyellow', 'paleturquoise', 'lightsteelblue', 'powderblue',\n",
        "                'firebrick', 'darkgoldenrod', 'mediumorchid', 'rosybrown', 'darkkhaki', \n",
        "                'silver', 'mediumvioletred', 'indianred', 'peru', 'chocolate', \n",
        "                'tan', 'lightgray', 'lightgrey', 'thistle', 'orchid',\n",
        "                'goldenrod', 'palevioletred', 'crimson', 'gainsboro', 'plum',\n",
        "                'burlywood', 'lightcyan', 'lavender', 'darksalmon', 'violet',\n",
        "                'palegoldenrod', 'lightcoral', 'khaki', 'aliceblue', 'honeydew', \n",
        "                'azure', 'sandybrown', 'wheat', 'beige', 'whitesmoke', \n",
        "                'mintcream', 'ghostwhite', 'salmon', 'antiquewhite', 'linen',\n",
        "                'lightgoldenrodyellow', 'oldlace', 'red', 'fuchsia', 'magenta',\n",
        "                'deeppink', 'orangered', 'tomato', 'hotpink', 'coral', \n",
        "                'darkorange', 'lightsalmon', 'orange', 'lightpink', 'pink', \n",
        "                'gold', 'peachpuff', 'navajowhite', 'moccasin', 'bisque', \n",
        "                'mistyrose', 'blanchedalmond', 'papayawhip', 'lavenderblush', 'seashell',\n",
        "                'cornsilk', 'lemonchiffon', 'floralwhite', 'snow', 'yellow', \n",
        "                'lightyellow', 'ivory', 'white')\n",
        "print(len(VALID_COLORS))"
      ],
      "metadata": {
        "id": "NQ36U_0nK86d"
      },
      "execution_count": null,
      "outputs": []
    },
    {
      "cell_type": "markdown",
      "source": [
        "# Gui in Colab\n",
        "\n",
        "- 보통 파이썬에서 GUI를 사용한다면 tkinter를 많이 사용하지만, 이는 외부 디스플레이가 필요하여 코랩에서 사용이 제한됨\n",
        "- 그래서 비슷하게라도 사용하기 위해 검색하다가 2가지 방법을 찾음 \n",
        "- 방법 1 : 주석(\"#@\")을 사용하는 방법\n",
        "- 방법 2 : widget 라이브러리를 사용하는 방법\n",
        "\n"
      ],
      "metadata": {
        "id": "dBisEIjndWK3"
      }
    },
    {
      "cell_type": "markdown",
      "source": [
        "## 주석을 사용하는 방법"
      ],
      "metadata": {
        "id": "If1lOKhecXVE"
      }
    },
    {
      "cell_type": "code",
      "source": [
        "#@title 텍스트와 드롭박스\n",
        "\n",
        "text = 'hello python' #@param {type:\"string\"}\n",
        "dropbox = '1st option' #@param [\"1st option\", \"2nd option\", \"3rd option\"]\n",
        "dropbox_input = 'value' #@param [\"1st option\", \"2nd option\", \"3rd option\"] {allow-input: true}\n",
        "\n",
        "#@markdown ---\n",
        "#@markdown ### Markdown\n",
        "file_path = \"In English\" #@param {type:\"string\"}"
      ],
      "metadata": {
        "id": "7qmlHNm7SnO1"
      },
      "execution_count": null,
      "outputs": []
    },
    {
      "cell_type": "code",
      "source": [
        "#@title 날짜\n",
        "date_input = '2022-06-27' #@param {type:\"date\"}\n",
        "\n",
        "#@markdown ### 숫자\n",
        "number_input = 10 #@param {type:\"number\"}\n",
        "integer_input = 10 #@param {type:\"integer\"}\n",
        "\n",
        "#@markdown ### bar이용\n",
        "number_slider = 0.1 #@param {type:\"slider\", min:-1, max:1, step:0.1}\n",
        "integer_slider = 50 #@param {type:\"slider\", min:0, max:100, step:1}\n"
      ],
      "metadata": {
        "id": "KdVqufYFd11l"
      },
      "execution_count": null,
      "outputs": []
    },
    {
      "cell_type": "code",
      "source": [
        "#@title Boolean \n",
        "boolean_checkbox = True #@param {type:\"boolean\"}\n",
        "boolean_dropbox = True #@param [\"False\", \"True\"] {type:\"raw\"}\n"
      ],
      "metadata": {
        "id": "X0mzH9ckd1m0"
      },
      "execution_count": null,
      "outputs": []
    },
    {
      "cell_type": "code",
      "source": [
        "#@title 디스플레이 모드 설정 { display-mode: \"form\" }\n",
        "\n",
        "#@markdown 코드를 숨길 수 있음 \\\n",
        "#@markdown 더블클릭하면 코드 나옴\n",
        "option1 = 'C' #@param [\"A\", \"B\", \"C\"]"
      ],
      "metadata": {
        "id": "LNfssLsXd1jp"
      },
      "execution_count": null,
      "outputs": []
    },
    {
      "cell_type": "code",
      "source": [
        "#@title 실행 후, 옵션을 변경하면 자동 실행 { run: \"auto\" }\n",
        "\n",
        "#@markdown 옵션을 변경하면 아웃풋이 자동으로 변경되어 실행됨\n",
        "\n",
        "option = \"A\" #@param [\"A\", \"B\", \"C\"]\n",
        "\n",
        "if option == \"A\" :\n",
        "    print(\"A로 변경\")\n",
        "elif option == \"B\" :\n",
        "    print(\"B로 변경\")\n",
        "else :\n",
        "    print(\"C로 변경\")"
      ],
      "metadata": {
        "id": "SkZ3vrDVdMsa"
      },
      "execution_count": null,
      "outputs": []
    },
    {
      "cell_type": "code",
      "source": [
        "#@title 통합 {run : \"auto\", display-mode: \"form\"}\n",
        "#@markdown 실행 후, 바를 움직이면 아웃풋이 계속해서 바뀜\n",
        "\n",
        "number_slider = 0.3 #@param {type:\"slider\", min:-1, max:1, step:0.1}\n",
        "integer_slider = 78 #@param {type:\"slider\", min:0, max:100, step:1}\n",
        "\n",
        "cal = number_slider*integer_slider\n",
        "print(cal)"
      ],
      "metadata": {
        "id": "7OXZqUsigKLw"
      },
      "execution_count": null,
      "outputs": []
    },
    {
      "cell_type": "markdown",
      "source": [
        "## widget 라이브러리 사용\n",
        "\n",
        "- 참고 문서 : https://ipywidgets.readthedocs.io/en/latest/examples/Widget%20List.html#\n",
        "- 현재 코랩에서 아이콘이나 텍스트들이 안뜨는 경우가 있음. 이를 유의 하면서 실행하기\n",
        "- 문서를 확인하면 사용한 오브젝트들 말고도 여러가지 존재함으로 필요에 따라 사용하기\n",
        "- 그래도 한번은 쓰겠다 싶은 것들만 정리함\n",
        "\n",
        "---\n",
        "\n",
        "- 기본 위젯 (string, blooen, 숫자 등...)\n",
        "- 다양한 오브젝트 (날짜, 파일 업로드 등)\n",
        "- 이미지\n",
        "- 오브젝트 (버튼)\n",
        "- 그 외(Tab, Box 등...)"
      ],
      "metadata": {
        "id": "KbE8lJA_h8RP"
      }
    },
    {
      "cell_type": "code",
      "source": [
        "# 라이브러리 불러오기\n",
        "from ipywidgets.widgets.interaction import interactive\n",
        "from ipywidgets import interact\n",
        "import ipywidgets as widgets"
      ],
      "metadata": {
        "id": "7iOkl_aDhqu7"
      },
      "execution_count": null,
      "outputs": []
    },
    {
      "cell_type": "markdown",
      "source": [
        "### 기본 위젯 (레이블과 텍스트)"
      ],
      "metadata": {
        "id": "8misvUhBoT4A"
      }
    },
    {
      "cell_type": "code",
      "source": [
        "# Lable #\n",
        "widgets.Label(value = \"write content\")"
      ],
      "metadata": {
        "id": "78dbpe_il05n"
      },
      "execution_count": null,
      "outputs": []
    },
    {
      "cell_type": "code",
      "source": [
        "# Text 1 #\n",
        "q = widgets.Text(value = \"\",\n",
        "                 placeholder = '텍스트를 입력하세요', # 텍스트가 비어있을때 나오는 문장\n",
        "                 description = \"text 레이블\",         # 텍스트 왼쪽에 나오는 텍스트 이름\n",
        "                 disabled = False) # False가 디퐅트   # 텍스트 변경을 허락하는지 True는 불가능\n",
        "\n",
        "display(q)"
      ],
      "metadata": {
        "id": "s4D1t4Ab4RzI"
      },
      "execution_count": null,
      "outputs": []
    },
    {
      "cell_type": "code",
      "source": [
        "# Text 2 #\n",
        "# text위젯을 실행 후, 아무것도 타입핑하지 않고 출력하면 아무것도 안나옴\n",
        "# 하지만 다시 위에 비어있는 아웃풋에 텍스트를 작성 후 출력하면 값이 나옴\n",
        "\n",
        "print(q.value)"
      ],
      "metadata": {
        "id": "AP0VZdAc5Rlb"
      },
      "execution_count": null,
      "outputs": []
    },
    {
      "cell_type": "markdown",
      "source": [
        "### 기본위젯 (Boolean과 숫자)"
      ],
      "metadata": {
        "id": "B45g6eYQDmHJ"
      }
    },
    {
      "cell_type": "code",
      "source": [
        "# Boolean 1 #\n",
        "widgets.ToggleButton(value = False,             # 값\n",
        "                     description = 'Click me',  # 버튼에 쓰는 텍스트\n",
        "                     disabled = False,          # True는 변경 불가\n",
        "                     button_style = '',         # 사용 가능한 종류 : 'success', 'info', 'warning', 'danger' or ''\n",
        "                     tooltip = '버튼설명',      # 마우스를 가져다 대면 나오는 말\n",
        "                     icon = 'check')            # description 앞에 나오는 설명"
      ],
      "metadata": {
        "id": "DNISUV3P722u"
      },
      "execution_count": null,
      "outputs": []
    },
    {
      "cell_type": "code",
      "source": [
        "# Boolean 2 #\n",
        "widgets.Checkbox(value = False,             # 값\n",
        "                 description = 'Check me',  # 옆에 나오는 체크박스 레이블\n",
        "                 disabled = False,          # True는 변경 불가\n",
        "                 indent = False)            # 정렬? 들여쓰기?라고 이해하는게 편함 # 직접 사용하여 차이 느껴보기"
      ],
      "metadata": {
        "id": "37_mtqJZBJ2-"
      },
      "execution_count": null,
      "outputs": []
    },
    {
      "cell_type": "code",
      "source": [
        "# Boolean 3 #\n",
        "# 이건 읽기 전용임\n",
        "\n",
        "widgets.Valid(value = False,                    # 값\n",
        "              description = 'Boolen의 값은?')   # 텍스트 입력"
      ],
      "metadata": {
        "id": "A3d666vYCag_"
      },
      "execution_count": null,
      "outputs": []
    },
    {
      "cell_type": "code",
      "source": [
        "# nteger나 float는 슬라이드가 주를 이룸\n",
        "# 숫자(Integer) 1 #\n",
        "widgets.IntSlider(value = 7,   # 값\n",
        "                  min = 0,     # 최소값\n",
        "                  max = 10,    # 최대값     \n",
        "                  step = 1,    # 간격\n",
        "                  description = '레이블',      # 레이블\n",
        "                  disabled = False,            # True는 변경 불가\n",
        "                  continuous_update = True,    # True가 디폴트 # 슬라이더를 잡고 있을 때 위젯의 값을 업데이트합\n",
        "                  orientation = 'horizontal',  # 슬라이드의 방향을 뜻 함. # 'horizontal' (디폴트 값)(가로) or‘vertical'(세로)\n",
        "                  readout = True,              # True가 디폴트 # 현재 값을 슬라이드 옆에 나타낼건지 말건지\n",
        "                  readout_format = 'd')        # \".2f\"(디폴트) # readout의 형식"
      ],
      "metadata": {
        "id": "AQEXCpEJDNR7"
      },
      "execution_count": null,
      "outputs": []
    },
    {
      "cell_type": "code",
      "source": [
        "# 숫자(Float) 2 #\n",
        "widgets.FloatSlider(value = 2,   # 값\n",
        "                    min = 0,     # 최소값\n",
        "                    max = 5,     # 최대값     \n",
        "                    step = 0.2,  # 간격\n",
        "                    description = '레이블',      # 레이블\n",
        "                    disabled = False,            # True는 변경 불가\n",
        "                    continuous_update = True,    # True가 디폴트 # 슬라이더를 잡고 있을 때 위젯의 값을 업데이트합\n",
        "                    orientation = 'horizontal',  # 슬라이드의 방향을 뜻 함. # 'horizontal' (디폴트 값)(가로) or‘vertical'(세로)\n",
        "                    readout = True,              # True가 디폴트 # 현재 값을 슬라이드 옆에 나타낼건지 말건지\n",
        "                    readout_format = '.1f')      #  readout의 형식"
      ],
      "metadata": {
        "id": "MmqfxJpMEbgk"
      },
      "execution_count": null,
      "outputs": []
    },
    {
      "cell_type": "code",
      "source": [
        "# 숫자(Range) 3 #\n",
        "# Flaot도 FloatRangeSlider로 사용가능\n",
        "widgets.IntRangeSlider(value = [5, 7],   # 값\n",
        "                  min = 0,     # 최소값\n",
        "                  max = 10,    # 최대값     \n",
        "                  step = 1,    # 간격\n",
        "                  description = '레이블',      # 레이블\n",
        "                  disabled = False,            # True는 변경 불가\n",
        "                  continuous_update = False,   # True가 디폴트 # 슬라이더를 잡고 있을 때 위젯의 값을 업데이트합\n",
        "                  orientation = 'horizontal',  # 슬라이드의 방향을 뜻 함. # 'horizontal' (디폴트 값)(가로) or‘vertical'(세로)\n",
        "                  readout = True,              # True가 디폴트 # 현재 값을 슬라이드 옆에 나타낼건지 말건지\n",
        "                  readout_format = 'd')        # \".2f\"(디폴트) # readout의 형식"
      ],
      "metadata": {
        "id": "QNxYUr3KHwKK"
      },
      "execution_count": null,
      "outputs": []
    },
    {
      "cell_type": "code",
      "source": [
        "# 숫자(Text형식) 4 #\n",
        "# Flaot도 BoundedFloatText로 사용가능\n",
        "widgets.BoundedIntText(value = 7,   # 값\n",
        "                       min = 0,     # 최소값\n",
        "                       max = 10,    # 최대값     \n",
        "                       step = 1,    # 간격\n",
        "                       description = '레이블',  # 레이블\n",
        "                       disabled = False)        # True는 변경 불가"
      ],
      "metadata": {
        "id": "g9fnvA6HIoBm"
      },
      "execution_count": null,
      "outputs": []
    },
    {
      "cell_type": "code",
      "source": [
        "# 숫자(Text형식) 5 #\n",
        "# Flaot도 FloatText로 사용가능\n",
        "widgets.IntText(value = 7,\n",
        "                description = '레이블',\n",
        "                disabled = False)"
      ],
      "metadata": {
        "id": "-BlqiIfeJbkq"
      },
      "execution_count": null,
      "outputs": []
    },
    {
      "cell_type": "markdown",
      "source": [
        "### 오브젝트 (날짜 및 파일 업로드)\n",
        "\n",
        "- 시간 위젯도 있었으나, 현재 없어진거 같음(22.06.27 기준)"
      ],
      "metadata": {
        "id": "jwCggtVjJ5VL"
      }
    },
    {
      "cell_type": "code",
      "source": [
        "# 날짜 위젯 # \n",
        "widgets.DatePicker(description = 'Date',\n",
        "                   disabled=False)"
      ],
      "metadata": {
        "id": "XCRmmGtaJz63"
      },
      "execution_count": null,
      "outputs": []
    },
    {
      "cell_type": "code",
      "source": [
        "# 파일 업로드 1 #\n",
        "f = widgets.FileUpload(accept = '',       # 혀락되는 파일 확장자 # '.txt', '.pdf', 'image/*', 'image/*,.pdf'\n",
        "                       multiple = False)  # 여러개의 파일 선택을 허용 한건지\n",
        "display(f)"
      ],
      "metadata": {
        "id": "enDEj84bK8Kd"
      },
      "execution_count": null,
      "outputs": []
    },
    {
      "cell_type": "code",
      "source": [
        "# 파일 업로드 2 #\n",
        "# 파일 내용을 보는 것은 document 확인\n",
        "filename = list(f.value)[0]\n",
        "print(filename)"
      ],
      "metadata": {
        "id": "2NGqFhpJLYr_"
      },
      "execution_count": null,
      "outputs": []
    },
    {
      "cell_type": "markdown",
      "source": [
        "### 이미지"
      ],
      "metadata": {
        "id": "DnSoWyaDRBTF"
      }
    },
    {
      "cell_type": "code",
      "source": [
        "# 이미지 1 #\n",
        "file = open(\"이미지 경로\", \"rb\")\n",
        "\n",
        "image = file.read()\n",
        "\n",
        "widgets.Image(value = image,\n",
        "              format='png',\n",
        "              width=300,\n",
        "              height=400)"
      ],
      "metadata": {
        "id": "GJiOaM4oRF3P"
      },
      "execution_count": null,
      "outputs": []
    },
    {
      "cell_type": "code",
      "source": [
        "# 이미지 2 #\n",
        "# 업로드한 파일이 이미지일 경우 활용하는 Tip!\n",
        "\n",
        "# 이미지를 불러내는 윗젯으로 할당 시키기\n",
        "# content가 사진의 데이터\n",
        "# 이렇게 출력해도 됨\n",
        "img = widgets.Image(value=f.value[filename]['content'])\n",
        "display(img)"
      ],
      "metadata": {
        "id": "_M2KQ5jPNULf"
      },
      "execution_count": null,
      "outputs": []
    },
    {
      "cell_type": "code",
      "source": [
        "# 이미지 3 #\n",
        "from PIL import Image\n",
        "import io\n",
        "\n",
        "# 하지만 Pillow를 사용하는 방법도 있음\n",
        "# 데이터를 PIL에 맞는 바이너리로 변경\n",
        "data_io = io.BytesIO(img.value)\n",
        "# PIL 이미지로 변환\n",
        "img_save = Image.open(data_io)\n",
        "# 이미지 출력\n",
        "img_save"
      ],
      "metadata": {
        "id": "N-X6PePwRrWd"
      },
      "execution_count": null,
      "outputs": []
    },
    {
      "cell_type": "markdown",
      "source": [
        "### 오브젝트 (버튼)\n",
        "\n",
        "- 버튼만 따로 다룬 이유는 tkinter처럼 상호작용되는 기능을 가졌기 때문!"
      ],
      "metadata": {
        "id": "LlTCFJffQaFF"
      }
    },
    {
      "cell_type": "code",
      "source": [
        "# 버튼 1 (기본구현) #\n",
        "widgets.Button(description = \"버튼 이름\",\n",
        "               tooltip = \"버튼 팁\",\n",
        "               disabled = False,  # False가 디폴트\n",
        "               # icon = \"\",\n",
        "               # button_style = , # 유효한 값들 : 'primary', 'success', 'info', 'warning', 'danger', ''      \n",
        "               )"
      ],
      "metadata": {
        "id": "CRVRAZfXPtr0"
      },
      "execution_count": null,
      "outputs": []
    },
    {
      "cell_type": "code",
      "source": [
        "# 버튼 2 (아웃풋) #\n",
        "output = widgets.Output()\n",
        "\n",
        "def button_on_click(x) :\n",
        "    with output :\n",
        "        la = widgets.Label(value = \"버튼 작동함\")\n",
        "        display(la)\n",
        "\n",
        "b = widgets.Button(description = \"output button\",\n",
        "                   tooltip = \"버튼 팁\",\n",
        "                   disabled = False,  # False가 디폴트\n",
        "                   # icon = \"\",\n",
        "                   # button_style = , # 유효한 값들 : 'primary', 'success', 'info', 'warning', 'danger', ''      \n",
        "                   )\n",
        "\n",
        "b.on_click(button_on_click)\n",
        "\n",
        "display(b, output)"
      ],
      "metadata": {
        "id": "efqhxvFgQloi"
      },
      "execution_count": null,
      "outputs": []
    },
    {
      "cell_type": "code",
      "source": [
        "# 버튼 3 (interact 활용) #\n",
        "def f(x) :\n",
        "  return x\n",
        "\n",
        "interact(f, x = 3)\n",
        "print(\"-------------------------------------\")\n",
        "interact(f, x = True)\n",
        "print(\"-------------------------------------\")\n",
        "interact(f, x = 'Hi there!')\n",
        "print(\"-------------------------------------\")\n",
        "interact(f, x = widgets.IntSlider(min = -10, max = 30, step = 1, value = 10))\n",
        "print(\"-------------------------------------\")\n",
        "interact(f, x = ['orange','apple'])"
      ],
      "metadata": {
        "id": "-0LpxGNMQmfq"
      },
      "execution_count": null,
      "outputs": []
    },
    {
      "cell_type": "code",
      "source": [
        "# 버튼 4 (interactive 활용) #\n",
        "\n",
        "## 함수 선언 부분 ##\n",
        "def displayImage() :\n",
        "    global image_name, img  # 다른 함수에서 쓰일 변수\n",
        "\n",
        "    image_name = []\n",
        "    img = None\n",
        "\n",
        "    image_name = list(file_open.value) # 이미지 이름\n",
        "    image_name = str(image_name[0])\n",
        "    img = widgets.Image(value=file_open.value[image_name]['content'], width=300, height=400)\n",
        "    display(img)\n",
        "\n",
        "# 파일 오픈\n",
        "file_open = widgets.FileUpload(description = \"이미지 업로드\", accept='', multiple=False)\n",
        "display(file_open)\n",
        "\n",
        "# 파일 보기\n",
        "img_show = interactive(displayImage, {'manual' : True, 'manual_name' : \"이미지 보기\"})\n",
        "display(img_show)"
      ],
      "metadata": {
        "id": "NffhKnOTmGiR"
      },
      "execution_count": null,
      "outputs": []
    },
    {
      "cell_type": "markdown",
      "source": [
        "### 그 외 (Tab, Box 등...)"
      ],
      "metadata": {
        "id": "hgJotJAaR6jh"
      }
    },
    {
      "cell_type": "code",
      "source": [
        "# Dropdown 1 #\n",
        "widgets.Dropdown(options = ['1', '2', '3'],\n",
        "                 value = '2',\n",
        "                 description = 'Number:',\n",
        "                 disabled = False)"
      ],
      "metadata": {
        "id": "IAqhorOWSwb3"
      },
      "execution_count": null,
      "outputs": []
    },
    {
      "cell_type": "code",
      "source": [
        "# Dropdown 2 #\n",
        "widgets.Dropdown(options = [('1', \"one\"), ('2', \"two\"), ('3', \"three\")],\n",
        "                 value = 'one',\n",
        "                 description = 'Number:',\n",
        "                 disabled = False)"
      ],
      "metadata": {
        "id": "36ttTRoUS8HE"
      },
      "execution_count": null,
      "outputs": []
    },
    {
      "cell_type": "code",
      "source": [
        "# RadioButtons #\n",
        "widgets.RadioButtons(options = ['pepperoni', 'pineapple', 'anchovies'],\n",
        "                     # value='pineapple',\n",
        "                     # layout={'width': 'max-content'}, # 이름이 길면 사용\n",
        "                     description = 'Pizza topping:',\n",
        "                     disabled = False)"
      ],
      "metadata": {
        "id": "k1y_wTgOSxPt"
      },
      "execution_count": null,
      "outputs": []
    },
    {
      "cell_type": "code",
      "source": [
        "# VBox #\n",
        "# 위젯을 세로로 묶는 방법\n",
        "\n",
        "# 드롭과 슬라이드 2개 묶기 \n",
        "d = widgets.Dropdown(options = ['1', '2', '3'],\n",
        "                     value = '2',\n",
        "                     description = 'Number:',\n",
        "                     disabled = False)\n",
        "\n",
        "i = widgets.IntSlider(value = 7,   # 값\n",
        "                      min = 0,     # 최소값\n",
        "                      max = 10,    # 최대값  \n",
        "                      step = 1,    # 간격\n",
        "                      description = '레이블',      # 레이블\n",
        "                      disabled = False,            # True는 변경 불가\n",
        "                      continuous_update = True,    # True가 디폴트 # 슬라이더를 잡고 있을 때 위젯의 값을 업데이트합\n",
        "                      orientation = 'horizontal',  # 슬라이드의 방향을 뜻 함. # 'horizontal' (디폴트 값)(가로) or‘vertical'(세로)\n",
        "                      readout = True,              # True가 디폴트 # 현재 값을 슬라이드 옆에 나타낼건지 말건지\n",
        "                      readout_format = 'd')        # \".2f\"(디폴트) # readout의 형식\n",
        "\n",
        "v = widgets.VBox([d,i])\n",
        "\n",
        "display(v)"
      ],
      "metadata": {
        "id": "o0D79VD9QmXC"
      },
      "execution_count": null,
      "outputs": []
    },
    {
      "cell_type": "code",
      "source": [
        "from binascii import hexlify\n",
        "# Hbox #\n",
        "# 위젯을 가롤로 묶는 방법\n",
        "h = widgets.HBox([d,i])\n",
        "\n",
        "display(h)"
      ],
      "metadata": {
        "id": "5DrYjIqWQmUn"
      },
      "execution_count": null,
      "outputs": []
    },
    {
      "cell_type": "code",
      "source": [
        "# Tab #\n",
        "# 여기 탭의 레이블이 코랩에서 안보임. 하지만 구현은 됨.\n",
        "\n",
        "# 탭을 만들고, 탭 레이블 넣기\n",
        "tab_container = widgets.Tab()\n",
        "tab_container.titles = (\"tab1\", \"tab2\")\n",
        "\n",
        "# 위에 사용한 v와 h를 미리 할당\n",
        "tab1_children = v\n",
        "tab2_children = h\n",
        "\n",
        "# 탭에 children으로 넣어주기\n",
        "tab_container.children = [tab1_children, tab2_children]\n",
        "\n",
        "# 구현\n",
        "display(tab_container)"
      ],
      "metadata": {
        "id": "f3UCDj6lQmZu"
      },
      "execution_count": null,
      "outputs": []
    }
  ]
}