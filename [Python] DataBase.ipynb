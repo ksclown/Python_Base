{
 "cells": [
  {
   "cell_type": "markdown",
   "metadata": {},
   "source": [
    "<span style=\"color:grey\">Version : Python 3.7.6 in Window</span>"
   ]
  },
  {
   "cell_type": "markdown",
   "metadata": {},
   "source": [
    "<span style=\"color:grey\">By \"ksclown(Kang Seong Chan)\"</span>"
   ]
  },
  {
   "cell_type": "markdown",
   "metadata": {},
   "source": [
    "# Data Base\n",
    "\n",
    "- 참고 교재 : Python For Beginner (한빛)"
   ]
  },
  {
   "cell_type": "markdown",
   "metadata": {},
   "source": [
    "## 프로그램을 다운로드하여 직접 사용\n",
    "\n",
    "- URL 들어가서 운영체제에 맞는 파일 다운로드(https://www.sqlite.org/index.html)\n",
    "- 압축 풀고 sqlite3.exe 실행"
   ]
  },
  {
   "cell_type": "markdown",
   "metadata": {},
   "source": [
    "### sqlite3.exe 사용법\n",
    "\n",
    "1. 데이터 베이스 생성\n",
    " - 형태 : \".open 데이터베이스명\"\n",
    "\n",
    "2. 테이블 생성\n",
    " - 형태 : \"CREATE TABLE 테이블이름(열이름1 데이터 형식, 열이름2 데이터 형식, ...);\"\n",
    " - 확인 1 : .table\n",
    " - 확인 2 : .schema 테이블이름\n",
    "\n",
    "3. 데이터 입력\n",
    " - 행데이터 입력 : \"INSERT INTO 테이블이름 VALUES(값1, 값2, 값3, ...)\"\n",
    "\n",
    "4. 데이터 조회 및 활용\n",
    " - 조회 : \"SELCET * FROM 테이블이름;\"\n",
    " - 조건 : \"SELECT 열이름1, 열이름2, ... FROM 테이블이름 WHERE 조건;\""
   ]
  },
  {
   "cell_type": "markdown",
   "metadata": {},
   "source": [
    "## 파이썬에서 활용\n",
    "\n",
    " - 데이터베이스 연결 (라이브러리 불러오고 데이터베이스 연결)\n",
    " - 커서 생성 (결과물 확인을 위해)\n",
    " - 테이블 만들기\n",
    " - 데이터 입력\n",
    " - 데이터 저장 (커밋(commit))\n",
    " - 데이터 조회\n",
    " - 데이터 닫기"
   ]
  },
  {
   "cell_type": "code",
   "execution_count": 1,
   "metadata": {},
   "outputs": [],
   "source": [
    "# 데이터 베이스 연결 (결과창 안나옴)\n",
    "import sqlite3\n",
    "con = sqlite3.connect(\"KSCDB\")"
   ]
  },
  {
   "cell_type": "code",
   "execution_count": 2,
   "metadata": {},
   "outputs": [],
   "source": [
    "# 커서 생성 (For 결과창)\n",
    "cur = con.cursor()"
   ]
  },
  {
   "cell_type": "code",
   "execution_count": 3,
   "metadata": {},
   "outputs": [
    {
     "data": {
      "text/plain": [
       "<sqlite3.Cursor at 0x23efc8303c0>"
      ]
     },
     "execution_count": 3,
     "metadata": {},
     "output_type": "execute_result"
    }
   ],
   "source": [
    "# 테이블 만들기\n",
    "cur.execute(\"CREATE TABLE KTable (First char(4), Last char(5), Email char(15), Age int)\")"
   ]
  },
  {
   "cell_type": "code",
   "execution_count": 4,
   "metadata": {},
   "outputs": [
    {
     "data": {
      "text/plain": [
       "<sqlite3.Cursor at 0x23efc8303c0>"
      ]
     },
     "execution_count": 4,
     "metadata": {},
     "output_type": "execute_result"
    }
   ],
   "source": [
    "# 데이터 입력\n",
    "cur.execute(\"INSERT INTO KTable VALUES('Kang', 'Jin', 'kj@naver.com', 32)\")\n",
    "cur.execute(\"INSERT INTO KTable VALUES('Kim', 'Hun', 'kh@daum.net', 25)\")\n",
    "cur.execute(\"INSERT INTO KTable VALUES('Lee', 'Cheong', 'lc@nate.net', 29)\")\n",
    "cur.execute(\"INSERT INTO KTable VALUES('Park', 'Su', 'ps@gmail.com', 30)\")"
   ]
  },
  {
   "cell_type": "code",
   "execution_count": 5,
   "metadata": {},
   "outputs": [],
   "source": [
    "# 데이터 저장 - 커밋(commit)\n",
    "con.commit()"
   ]
  },
  {
   "cell_type": "code",
   "execution_count": 6,
   "metadata": {},
   "outputs": [
    {
     "ename": "OperationalError",
     "evalue": "no such table: userTable",
     "output_type": "error",
     "traceback": [
      "\u001b[1;31m---------------------------------------------------------------------------\u001b[0m",
      "\u001b[1;31mOperationalError\u001b[0m                          Traceback (most recent call last)",
      "\u001b[1;32mc:\\Users\\82108\\Desktop\\Study\\Python_base\\[Base] Python by KSC\\[Python] DataBase.ipynb Cell 12'\u001b[0m in \u001b[0;36m<cell line: 2>\u001b[1;34m()\u001b[0m\n\u001b[0;32m      <a href='vscode-notebook-cell:/c%3A/Users/82108/Desktop/Study/Python_base/%5BBase%5D%20Python%20by%20KSC/%5BPython%5D%20DataBase.ipynb#ch0000011?line=0'>1</a>\u001b[0m \u001b[39m# 조회\u001b[39;00m\n\u001b[1;32m----> <a href='vscode-notebook-cell:/c%3A/Users/82108/Desktop/Study/Python_base/%5BBase%5D%20Python%20by%20KSC/%5BPython%5D%20DataBase.ipynb#ch0000011?line=1'>2</a>\u001b[0m cur\u001b[39m.\u001b[39;49mexecute(\u001b[39m\"\u001b[39;49m\u001b[39mSELECT * FROM userTable\u001b[39;49m\u001b[39m\"\u001b[39;49m)\n",
      "\u001b[1;31mOperationalError\u001b[0m: no such table: userTable"
     ]
    }
   ],
   "source": [
    "# 조회\n",
    "cur.execute(\"SELECT * FROM userTable\")"
   ]
  },
  {
   "cell_type": "code",
   "execution_count": null,
   "metadata": {},
   "outputs": [],
   "source": [
    "# 데이터베이스 닫기\n",
    "con.close()"
   ]
  },
  {
   "cell_type": "markdown",
   "metadata": {},
   "source": [
    "### 데이터베이스에서 가져와서 파이썬으로 출력\n",
    "\n",
    "- fetchone을 사용하면 하나의 row를 리턴함\n",
    "- print를 사용해서 나오는 결과를 출력하면 쉽게 이해 가능\n",
    "- 반복문을 통해 데이터 출력"
   ]
  },
  {
   "cell_type": "code",
   "execution_count": 7,
   "metadata": {},
   "outputs": [
    {
     "name": "stdout",
     "output_type": "stream",
     "text": [
      "First      Last             Email     Age\n",
      "----------------------------------------------------\n",
      " Kang       Jin      kj@naver.com      32\n",
      "  Kim       Hun       kh@daum.net      25\n",
      "  Lee    Cheong       lc@nate.net      29\n",
      " Park        Su      ps@gmail.com      30\n"
     ]
    },
    {
     "data": {
      "text/plain": [
       "<function Connection.close()>"
      ]
     },
     "execution_count": 7,
     "metadata": {},
     "output_type": "execute_result"
    }
   ],
   "source": [
    "# 라이브러리 #\n",
    "import sqlite3\n",
    "\n",
    "# 변수 선언 부분 #\n",
    "con, cur = None, None\n",
    "data1, data2, data3, data4 = \"\", \"\", \"\", \"\"\n",
    "row=None\n",
    "\n",
    "# 메인 코드 부분 #\n",
    "con = sqlite3.connect(\"KSCDB\")\n",
    "cur = con.cursor()\n",
    "\n",
    "cur.execute(\"SELECT * FROM KTable\")\n",
    "\n",
    "print(\"First      Last             Email     Age\")\n",
    "print(\"----------------------------------------------------\")\n",
    "\n",
    "while (True) :\n",
    "    row = cur.fetchone()  # 하나의 row를 리턴\n",
    "    if row == None :\n",
    "        break;\n",
    "    data1 = row[0] \n",
    "    data2 = row[1]\n",
    "    data3 = row[2]\n",
    "    data4 = row[3]\n",
    "    print(\"%5s   %7s   %15s   %5d\" % (data1, data2, data3, data4))\n",
    "\n",
    "con.close"
   ]
  },
  {
   "cell_type": "code",
   "execution_count": null,
   "metadata": {},
   "outputs": [],
   "source": []
  }
 ],
 "metadata": {
  "kernelspec": {
   "display_name": "Python 3.10.1 64-bit",
   "language": "python",
   "name": "python3"
  },
  "language_info": {
   "codemirror_mode": {
    "name": "ipython",
    "version": 3
   },
   "file_extension": ".py",
   "mimetype": "text/x-python",
   "name": "python",
   "nbconvert_exporter": "python",
   "pygments_lexer": "ipython3",
   "version": "3.10.1"
  },
  "orig_nbformat": 4,
  "vscode": {
   "interpreter": {
    "hash": "c5c2c3c852cea3612ae75d7177c7db88d742ce4c76218675a91b833287f5ecf2"
   }
  }
 },
 "nbformat": 4,
 "nbformat_minor": 2
}
